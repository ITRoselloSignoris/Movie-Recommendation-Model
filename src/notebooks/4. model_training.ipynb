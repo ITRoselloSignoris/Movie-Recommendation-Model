{
 "cells": [
  {
   "cell_type": "code",
   "execution_count": 1,
   "metadata": {},
   "outputs": [],
   "source": [
    "import mlflow.sklearn"
   ]
  },
  {
   "cell_type": "code",
   "execution_count": 2,
   "metadata": {},
   "outputs": [],
   "source": [
    "mlflow.set_tracking_uri(\"../../deployment/mlruns/\")"
   ]
  },
  {
   "cell_type": "code",
   "execution_count": 3,
   "metadata": {},
   "outputs": [
    {
     "data": {
      "text/plain": [
       "<Experiment: artifact_location='/home/alumni/Programación/Proyectos/Data_Science/Recommendation_Model/src/notebooks/../../deployment/mlruns/487372267701072284', creation_time=1740506977170, experiment_id='487372267701072284', last_update_time=1740506977170, lifecycle_stage='active', name='recommendation_model', tags={}>"
      ]
     },
     "execution_count": 3,
     "metadata": {},
     "output_type": "execute_result"
    }
   ],
   "source": [
    "mlflow.set_experiment(experiment_name = \"recommendation_model\")"
   ]
  },
  {
   "cell_type": "code",
   "execution_count": 4,
   "metadata": {},
   "outputs": [],
   "source": [
    "import pandas as pd"
   ]
  },
  {
   "cell_type": "code",
   "execution_count": 5,
   "metadata": {},
   "outputs": [
    {
     "data": {
      "text/html": [
       "<div>\n",
       "<style scoped>\n",
       "    .dataframe tbody tr th:only-of-type {\n",
       "        vertical-align: middle;\n",
       "    }\n",
       "\n",
       "    .dataframe tbody tr th {\n",
       "        vertical-align: top;\n",
       "    }\n",
       "\n",
       "    .dataframe thead th {\n",
       "        text-align: right;\n",
       "    }\n",
       "</style>\n",
       "<table border=\"1\" class=\"dataframe\">\n",
       "  <thead>\n",
       "    <tr style=\"text-align: right;\">\n",
       "      <th></th>\n",
       "      <th>userId</th>\n",
       "      <th>rating</th>\n",
       "      <th>title</th>\n",
       "      <th>imdbId</th>\n",
       "    </tr>\n",
       "  </thead>\n",
       "  <tbody>\n",
       "    <tr>\n",
       "      <th>0</th>\n",
       "      <td>1</td>\n",
       "      <td>4.0</td>\n",
       "      <td>Toy Story</td>\n",
       "      <td>114709</td>\n",
       "    </tr>\n",
       "    <tr>\n",
       "      <th>1</th>\n",
       "      <td>5</td>\n",
       "      <td>4.0</td>\n",
       "      <td>Toy Story</td>\n",
       "      <td>114709</td>\n",
       "    </tr>\n",
       "    <tr>\n",
       "      <th>2</th>\n",
       "      <td>7</td>\n",
       "      <td>4.5</td>\n",
       "      <td>Toy Story</td>\n",
       "      <td>114709</td>\n",
       "    </tr>\n",
       "    <tr>\n",
       "      <th>3</th>\n",
       "      <td>15</td>\n",
       "      <td>2.5</td>\n",
       "      <td>Toy Story</td>\n",
       "      <td>114709</td>\n",
       "    </tr>\n",
       "    <tr>\n",
       "      <th>4</th>\n",
       "      <td>17</td>\n",
       "      <td>4.5</td>\n",
       "      <td>Toy Story</td>\n",
       "      <td>114709</td>\n",
       "    </tr>\n",
       "    <tr>\n",
       "      <th>...</th>\n",
       "      <td>...</td>\n",
       "      <td>...</td>\n",
       "      <td>...</td>\n",
       "      <td>...</td>\n",
       "    </tr>\n",
       "    <tr>\n",
       "      <th>100831</th>\n",
       "      <td>610</td>\n",
       "      <td>2.5</td>\n",
       "      <td>Bloodmoon</td>\n",
       "      <td>118745</td>\n",
       "    </tr>\n",
       "    <tr>\n",
       "      <th>100832</th>\n",
       "      <td>610</td>\n",
       "      <td>4.5</td>\n",
       "      <td>Sympathy for the Underdog</td>\n",
       "      <td>66806</td>\n",
       "    </tr>\n",
       "    <tr>\n",
       "      <th>100833</th>\n",
       "      <td>610</td>\n",
       "      <td>3.0</td>\n",
       "      <td>Hazard</td>\n",
       "      <td>798722</td>\n",
       "    </tr>\n",
       "    <tr>\n",
       "      <th>100834</th>\n",
       "      <td>610</td>\n",
       "      <td>3.5</td>\n",
       "      <td>Blair Witch</td>\n",
       "      <td>1540011</td>\n",
       "    </tr>\n",
       "    <tr>\n",
       "      <th>100835</th>\n",
       "      <td>610</td>\n",
       "      <td>3.5</td>\n",
       "      <td>31</td>\n",
       "      <td>3835080</td>\n",
       "    </tr>\n",
       "  </tbody>\n",
       "</table>\n",
       "<p>100836 rows × 4 columns</p>\n",
       "</div>"
      ],
      "text/plain": [
       "        userId  rating                      title   imdbId\n",
       "0            1     4.0                  Toy Story   114709\n",
       "1            5     4.0                  Toy Story   114709\n",
       "2            7     4.5                  Toy Story   114709\n",
       "3           15     2.5                  Toy Story   114709\n",
       "4           17     4.5                  Toy Story   114709\n",
       "...        ...     ...                        ...      ...\n",
       "100831     610     2.5                  Bloodmoon   118745\n",
       "100832     610     4.5  Sympathy for the Underdog    66806\n",
       "100833     610     3.0                     Hazard   798722\n",
       "100834     610     3.5                Blair Witch  1540011\n",
       "100835     610     3.5                         31  3835080\n",
       "\n",
       "[100836 rows x 4 columns]"
      ]
     },
     "execution_count": 5,
     "metadata": {},
     "output_type": "execute_result"
    }
   ],
   "source": [
    "data = pd.read_csv(\"../datasets/processed_data/processedData.csv\", sep = \",\")\n",
    "data"
   ]
  },
  {
   "cell_type": "code",
   "execution_count": 6,
   "metadata": {},
   "outputs": [
    {
     "data": {
      "text/html": [
       "<div>\n",
       "<style scoped>\n",
       "    .dataframe tbody tr th:only-of-type {\n",
       "        vertical-align: middle;\n",
       "    }\n",
       "\n",
       "    .dataframe tbody tr th {\n",
       "        vertical-align: top;\n",
       "    }\n",
       "\n",
       "    .dataframe thead th {\n",
       "        text-align: right;\n",
       "    }\n",
       "</style>\n",
       "<table border=\"1\" class=\"dataframe\">\n",
       "  <thead>\n",
       "    <tr style=\"text-align: right;\">\n",
       "      <th></th>\n",
       "      <th>imdbId</th>\n",
       "      <th>title</th>\n",
       "      <th>(no genres listed)</th>\n",
       "      <th>Action</th>\n",
       "      <th>Adventure</th>\n",
       "      <th>Animation</th>\n",
       "      <th>Children</th>\n",
       "      <th>Comedy</th>\n",
       "      <th>Crime</th>\n",
       "      <th>Documentary</th>\n",
       "      <th>...</th>\n",
       "      <th>1930s</th>\n",
       "      <th>1940s</th>\n",
       "      <th>1950s</th>\n",
       "      <th>1960s</th>\n",
       "      <th>1970s</th>\n",
       "      <th>1980s</th>\n",
       "      <th>1990s</th>\n",
       "      <th>2000s</th>\n",
       "      <th>2010s</th>\n",
       "      <th>unknown</th>\n",
       "    </tr>\n",
       "  </thead>\n",
       "  <tbody>\n",
       "    <tr>\n",
       "      <th>0</th>\n",
       "      <td>2614684</td>\n",
       "      <td>'71</td>\n",
       "      <td>0</td>\n",
       "      <td>1</td>\n",
       "      <td>0</td>\n",
       "      <td>0</td>\n",
       "      <td>0</td>\n",
       "      <td>0</td>\n",
       "      <td>0</td>\n",
       "      <td>0</td>\n",
       "      <td>...</td>\n",
       "      <td>False</td>\n",
       "      <td>False</td>\n",
       "      <td>False</td>\n",
       "      <td>False</td>\n",
       "      <td>False</td>\n",
       "      <td>False</td>\n",
       "      <td>False</td>\n",
       "      <td>False</td>\n",
       "      <td>True</td>\n",
       "      <td>False</td>\n",
       "    </tr>\n",
       "    <tr>\n",
       "      <th>1</th>\n",
       "      <td>424755</td>\n",
       "      <td>'Hellboy': The Seeds of Creation</td>\n",
       "      <td>0</td>\n",
       "      <td>1</td>\n",
       "      <td>1</td>\n",
       "      <td>0</td>\n",
       "      <td>0</td>\n",
       "      <td>1</td>\n",
       "      <td>0</td>\n",
       "      <td>1</td>\n",
       "      <td>...</td>\n",
       "      <td>False</td>\n",
       "      <td>False</td>\n",
       "      <td>False</td>\n",
       "      <td>False</td>\n",
       "      <td>False</td>\n",
       "      <td>False</td>\n",
       "      <td>False</td>\n",
       "      <td>True</td>\n",
       "      <td>False</td>\n",
       "      <td>False</td>\n",
       "    </tr>\n",
       "    <tr>\n",
       "      <th>2</th>\n",
       "      <td>90557</td>\n",
       "      <td>'Round Midnight</td>\n",
       "      <td>0</td>\n",
       "      <td>0</td>\n",
       "      <td>0</td>\n",
       "      <td>0</td>\n",
       "      <td>0</td>\n",
       "      <td>0</td>\n",
       "      <td>0</td>\n",
       "      <td>0</td>\n",
       "      <td>...</td>\n",
       "      <td>False</td>\n",
       "      <td>False</td>\n",
       "      <td>False</td>\n",
       "      <td>False</td>\n",
       "      <td>False</td>\n",
       "      <td>True</td>\n",
       "      <td>False</td>\n",
       "      <td>False</td>\n",
       "      <td>False</td>\n",
       "      <td>False</td>\n",
       "    </tr>\n",
       "    <tr>\n",
       "      <th>3</th>\n",
       "      <td>355987</td>\n",
       "      <td>'Salem's Lot</td>\n",
       "      <td>0</td>\n",
       "      <td>0</td>\n",
       "      <td>0</td>\n",
       "      <td>0</td>\n",
       "      <td>0</td>\n",
       "      <td>0</td>\n",
       "      <td>0</td>\n",
       "      <td>0</td>\n",
       "      <td>...</td>\n",
       "      <td>False</td>\n",
       "      <td>False</td>\n",
       "      <td>False</td>\n",
       "      <td>False</td>\n",
       "      <td>False</td>\n",
       "      <td>False</td>\n",
       "      <td>False</td>\n",
       "      <td>True</td>\n",
       "      <td>False</td>\n",
       "      <td>False</td>\n",
       "    </tr>\n",
       "    <tr>\n",
       "      <th>4</th>\n",
       "      <td>118523</td>\n",
       "      <td>'Til There Was You</td>\n",
       "      <td>0</td>\n",
       "      <td>0</td>\n",
       "      <td>0</td>\n",
       "      <td>0</td>\n",
       "      <td>0</td>\n",
       "      <td>0</td>\n",
       "      <td>0</td>\n",
       "      <td>0</td>\n",
       "      <td>...</td>\n",
       "      <td>False</td>\n",
       "      <td>False</td>\n",
       "      <td>False</td>\n",
       "      <td>False</td>\n",
       "      <td>False</td>\n",
       "      <td>False</td>\n",
       "      <td>True</td>\n",
       "      <td>False</td>\n",
       "      <td>False</td>\n",
       "      <td>False</td>\n",
       "    </tr>\n",
       "    <tr>\n",
       "      <th>...</th>\n",
       "      <td>...</td>\n",
       "      <td>...</td>\n",
       "      <td>...</td>\n",
       "      <td>...</td>\n",
       "      <td>...</td>\n",
       "      <td>...</td>\n",
       "      <td>...</td>\n",
       "      <td>...</td>\n",
       "      <td>...</td>\n",
       "      <td>...</td>\n",
       "      <td>...</td>\n",
       "      <td>...</td>\n",
       "      <td>...</td>\n",
       "      <td>...</td>\n",
       "      <td>...</td>\n",
       "      <td>...</td>\n",
       "      <td>...</td>\n",
       "      <td>...</td>\n",
       "      <td>...</td>\n",
       "      <td>...</td>\n",
       "      <td>...</td>\n",
       "    </tr>\n",
       "    <tr>\n",
       "      <th>9443</th>\n",
       "      <td>120907</td>\n",
       "      <td>eXistenZ</td>\n",
       "      <td>0</td>\n",
       "      <td>1</td>\n",
       "      <td>0</td>\n",
       "      <td>0</td>\n",
       "      <td>0</td>\n",
       "      <td>0</td>\n",
       "      <td>0</td>\n",
       "      <td>0</td>\n",
       "      <td>...</td>\n",
       "      <td>False</td>\n",
       "      <td>False</td>\n",
       "      <td>False</td>\n",
       "      <td>False</td>\n",
       "      <td>False</td>\n",
       "      <td>False</td>\n",
       "      <td>True</td>\n",
       "      <td>False</td>\n",
       "      <td>False</td>\n",
       "      <td>False</td>\n",
       "    </tr>\n",
       "    <tr>\n",
       "      <th>9444</th>\n",
       "      <td>295701</td>\n",
       "      <td>xXx</td>\n",
       "      <td>0</td>\n",
       "      <td>1</td>\n",
       "      <td>0</td>\n",
       "      <td>0</td>\n",
       "      <td>0</td>\n",
       "      <td>0</td>\n",
       "      <td>1</td>\n",
       "      <td>0</td>\n",
       "      <td>...</td>\n",
       "      <td>False</td>\n",
       "      <td>False</td>\n",
       "      <td>False</td>\n",
       "      <td>False</td>\n",
       "      <td>False</td>\n",
       "      <td>False</td>\n",
       "      <td>False</td>\n",
       "      <td>True</td>\n",
       "      <td>False</td>\n",
       "      <td>False</td>\n",
       "    </tr>\n",
       "    <tr>\n",
       "      <th>9445</th>\n",
       "      <td>329774</td>\n",
       "      <td>xXx: State of the Union</td>\n",
       "      <td>0</td>\n",
       "      <td>1</td>\n",
       "      <td>0</td>\n",
       "      <td>0</td>\n",
       "      <td>0</td>\n",
       "      <td>0</td>\n",
       "      <td>1</td>\n",
       "      <td>0</td>\n",
       "      <td>...</td>\n",
       "      <td>False</td>\n",
       "      <td>False</td>\n",
       "      <td>False</td>\n",
       "      <td>False</td>\n",
       "      <td>False</td>\n",
       "      <td>False</td>\n",
       "      <td>False</td>\n",
       "      <td>True</td>\n",
       "      <td>False</td>\n",
       "      <td>False</td>\n",
       "    </tr>\n",
       "    <tr>\n",
       "      <th>9446</th>\n",
       "      <td>92086</td>\n",
       "      <td>¡Three Amigos!</td>\n",
       "      <td>0</td>\n",
       "      <td>0</td>\n",
       "      <td>0</td>\n",
       "      <td>0</td>\n",
       "      <td>0</td>\n",
       "      <td>1</td>\n",
       "      <td>0</td>\n",
       "      <td>0</td>\n",
       "      <td>...</td>\n",
       "      <td>False</td>\n",
       "      <td>False</td>\n",
       "      <td>False</td>\n",
       "      <td>False</td>\n",
       "      <td>False</td>\n",
       "      <td>True</td>\n",
       "      <td>False</td>\n",
       "      <td>False</td>\n",
       "      <td>False</td>\n",
       "      <td>False</td>\n",
       "    </tr>\n",
       "    <tr>\n",
       "      <th>9447</th>\n",
       "      <td>22599</td>\n",
       "      <td>À nous la liberté (Freedom for Us)</td>\n",
       "      <td>0</td>\n",
       "      <td>0</td>\n",
       "      <td>0</td>\n",
       "      <td>0</td>\n",
       "      <td>0</td>\n",
       "      <td>1</td>\n",
       "      <td>0</td>\n",
       "      <td>0</td>\n",
       "      <td>...</td>\n",
       "      <td>True</td>\n",
       "      <td>False</td>\n",
       "      <td>False</td>\n",
       "      <td>False</td>\n",
       "      <td>False</td>\n",
       "      <td>False</td>\n",
       "      <td>False</td>\n",
       "      <td>False</td>\n",
       "      <td>False</td>\n",
       "      <td>False</td>\n",
       "    </tr>\n",
       "  </tbody>\n",
       "</table>\n",
       "<p>9448 rows × 35 columns</p>\n",
       "</div>"
      ],
      "text/plain": [
       "       imdbId                               title  (no genres listed)  Action  \\\n",
       "0     2614684                                 '71                   0       1   \n",
       "1      424755    'Hellboy': The Seeds of Creation                   0       1   \n",
       "2       90557                     'Round Midnight                   0       0   \n",
       "3      355987                        'Salem's Lot                   0       0   \n",
       "4      118523                  'Til There Was You                   0       0   \n",
       "...       ...                                 ...                 ...     ...   \n",
       "9443   120907                            eXistenZ                   0       1   \n",
       "9444   295701                                 xXx                   0       1   \n",
       "9445   329774             xXx: State of the Union                   0       1   \n",
       "9446    92086                      ¡Three Amigos!                   0       0   \n",
       "9447    22599  À nous la liberté (Freedom for Us)                   0       0   \n",
       "\n",
       "      Adventure  Animation  Children  Comedy  Crime  Documentary  ...  1930s  \\\n",
       "0             0          0         0       0      0            0  ...  False   \n",
       "1             1          0         0       1      0            1  ...  False   \n",
       "2             0          0         0       0      0            0  ...  False   \n",
       "3             0          0         0       0      0            0  ...  False   \n",
       "4             0          0         0       0      0            0  ...  False   \n",
       "...         ...        ...       ...     ...    ...          ...  ...    ...   \n",
       "9443          0          0         0       0      0            0  ...  False   \n",
       "9444          0          0         0       0      1            0  ...  False   \n",
       "9445          0          0         0       0      1            0  ...  False   \n",
       "9446          0          0         0       1      0            0  ...  False   \n",
       "9447          0          0         0       1      0            0  ...   True   \n",
       "\n",
       "      1940s  1950s  1960s  1970s  1980s  1990s  2000s  2010s  unknown  \n",
       "0     False  False  False  False  False  False  False   True    False  \n",
       "1     False  False  False  False  False  False   True  False    False  \n",
       "2     False  False  False  False   True  False  False  False    False  \n",
       "3     False  False  False  False  False  False   True  False    False  \n",
       "4     False  False  False  False  False   True  False  False    False  \n",
       "...     ...    ...    ...    ...    ...    ...    ...    ...      ...  \n",
       "9443  False  False  False  False  False   True  False  False    False  \n",
       "9444  False  False  False  False  False  False   True  False    False  \n",
       "9445  False  False  False  False  False  False   True  False    False  \n",
       "9446  False  False  False  False   True  False  False  False    False  \n",
       "9447  False  False  False  False  False  False  False  False    False  \n",
       "\n",
       "[9448 rows x 35 columns]"
      ]
     },
     "execution_count": 6,
     "metadata": {},
     "output_type": "execute_result"
    }
   ],
   "source": [
    "features_df = pd.read_csv(\"../datasets/processed_data/featuresDataset.csv\", sep = \",\")\n",
    "features_df "
   ]
  },
  {
   "cell_type": "code",
   "execution_count": 7,
   "metadata": {},
   "outputs": [],
   "source": [
    "movies = features_df[[\"title\",\"imdbId\"]]\n",
    "features_df.drop(columns=[\"title\",\"imdbId\"], axis = 1, inplace = True)\n",
    "movies = pd.DataFrame(movies)"
   ]
  },
  {
   "cell_type": "code",
   "execution_count": 8,
   "metadata": {},
   "outputs": [],
   "source": [
    "from funpymodeling import status, freq_tbl, profiling_num"
   ]
  },
  {
   "cell_type": "code",
   "execution_count": 9,
   "metadata": {},
   "outputs": [
    {
     "data": {
      "text/html": [
       "<div>\n",
       "<style scoped>\n",
       "    .dataframe tbody tr th:only-of-type {\n",
       "        vertical-align: middle;\n",
       "    }\n",
       "\n",
       "    .dataframe tbody tr th {\n",
       "        vertical-align: top;\n",
       "    }\n",
       "\n",
       "    .dataframe thead th {\n",
       "        text-align: right;\n",
       "    }\n",
       "</style>\n",
       "<table border=\"1\" class=\"dataframe\">\n",
       "  <thead>\n",
       "    <tr style=\"text-align: right;\">\n",
       "      <th></th>\n",
       "      <th>variable</th>\n",
       "      <th>q_nan</th>\n",
       "      <th>p_nan</th>\n",
       "      <th>q_zeros</th>\n",
       "      <th>p_zeros</th>\n",
       "      <th>unique</th>\n",
       "      <th>type</th>\n",
       "    </tr>\n",
       "  </thead>\n",
       "  <tbody>\n",
       "    <tr>\n",
       "      <th>0</th>\n",
       "      <td>userId</td>\n",
       "      <td>0</td>\n",
       "      <td>0.0</td>\n",
       "      <td>0</td>\n",
       "      <td>0.0</td>\n",
       "      <td>610</td>\n",
       "      <td>int64</td>\n",
       "    </tr>\n",
       "    <tr>\n",
       "      <th>1</th>\n",
       "      <td>rating</td>\n",
       "      <td>0</td>\n",
       "      <td>0.0</td>\n",
       "      <td>0</td>\n",
       "      <td>0.0</td>\n",
       "      <td>10</td>\n",
       "      <td>float64</td>\n",
       "    </tr>\n",
       "    <tr>\n",
       "      <th>2</th>\n",
       "      <td>title</td>\n",
       "      <td>0</td>\n",
       "      <td>0.0</td>\n",
       "      <td>0</td>\n",
       "      <td>0.0</td>\n",
       "      <td>9433</td>\n",
       "      <td>object</td>\n",
       "    </tr>\n",
       "    <tr>\n",
       "      <th>3</th>\n",
       "      <td>imdbId</td>\n",
       "      <td>0</td>\n",
       "      <td>0.0</td>\n",
       "      <td>0</td>\n",
       "      <td>0.0</td>\n",
       "      <td>9724</td>\n",
       "      <td>int64</td>\n",
       "    </tr>\n",
       "  </tbody>\n",
       "</table>\n",
       "</div>"
      ],
      "text/plain": [
       "  variable  q_nan  p_nan  q_zeros  p_zeros  unique     type\n",
       "0   userId      0    0.0        0      0.0     610    int64\n",
       "1   rating      0    0.0        0      0.0      10  float64\n",
       "2    title      0    0.0        0      0.0    9433   object\n",
       "3   imdbId      0    0.0        0      0.0    9724    int64"
      ]
     },
     "execution_count": 9,
     "metadata": {},
     "output_type": "execute_result"
    }
   ],
   "source": [
    "status(data)"
   ]
  },
  {
   "cell_type": "code",
   "execution_count": 10,
   "metadata": {},
   "outputs": [
    {
     "data": {
      "text/html": [
       "<div>\n",
       "<style scoped>\n",
       "    .dataframe tbody tr th:only-of-type {\n",
       "        vertical-align: middle;\n",
       "    }\n",
       "\n",
       "    .dataframe tbody tr th {\n",
       "        vertical-align: top;\n",
       "    }\n",
       "\n",
       "    .dataframe thead th {\n",
       "        text-align: right;\n",
       "    }\n",
       "</style>\n",
       "<table border=\"1\" class=\"dataframe\">\n",
       "  <thead>\n",
       "    <tr style=\"text-align: right;\">\n",
       "      <th></th>\n",
       "      <th>variable</th>\n",
       "      <th>q_nan</th>\n",
       "      <th>p_nan</th>\n",
       "      <th>q_zeros</th>\n",
       "      <th>p_zeros</th>\n",
       "      <th>unique</th>\n",
       "      <th>type</th>\n",
       "    </tr>\n",
       "  </thead>\n",
       "  <tbody>\n",
       "    <tr>\n",
       "      <th>0</th>\n",
       "      <td>(no genres listed)</td>\n",
       "      <td>0</td>\n",
       "      <td>0.0</td>\n",
       "      <td>9414</td>\n",
       "      <td>0.996401</td>\n",
       "      <td>2</td>\n",
       "      <td>int64</td>\n",
       "    </tr>\n",
       "    <tr>\n",
       "      <th>1</th>\n",
       "      <td>Action</td>\n",
       "      <td>0</td>\n",
       "      <td>0.0</td>\n",
       "      <td>7667</td>\n",
       "      <td>0.811494</td>\n",
       "      <td>2</td>\n",
       "      <td>int64</td>\n",
       "    </tr>\n",
       "    <tr>\n",
       "      <th>2</th>\n",
       "      <td>Adventure</td>\n",
       "      <td>0</td>\n",
       "      <td>0.0</td>\n",
       "      <td>8217</td>\n",
       "      <td>0.869708</td>\n",
       "      <td>2</td>\n",
       "      <td>int64</td>\n",
       "    </tr>\n",
       "    <tr>\n",
       "      <th>3</th>\n",
       "      <td>Animation</td>\n",
       "      <td>0</td>\n",
       "      <td>0.0</td>\n",
       "      <td>8837</td>\n",
       "      <td>0.935330</td>\n",
       "      <td>2</td>\n",
       "      <td>int64</td>\n",
       "    </tr>\n",
       "    <tr>\n",
       "      <th>4</th>\n",
       "      <td>Children</td>\n",
       "      <td>0</td>\n",
       "      <td>0.0</td>\n",
       "      <td>8800</td>\n",
       "      <td>0.931414</td>\n",
       "      <td>2</td>\n",
       "      <td>int64</td>\n",
       "    </tr>\n",
       "    <tr>\n",
       "      <th>5</th>\n",
       "      <td>Comedy</td>\n",
       "      <td>0</td>\n",
       "      <td>0.0</td>\n",
       "      <td>5750</td>\n",
       "      <td>0.608594</td>\n",
       "      <td>2</td>\n",
       "      <td>int64</td>\n",
       "    </tr>\n",
       "    <tr>\n",
       "      <th>6</th>\n",
       "      <td>Crime</td>\n",
       "      <td>0</td>\n",
       "      <td>0.0</td>\n",
       "      <td>8267</td>\n",
       "      <td>0.875000</td>\n",
       "      <td>2</td>\n",
       "      <td>int64</td>\n",
       "    </tr>\n",
       "    <tr>\n",
       "      <th>7</th>\n",
       "      <td>Documentary</td>\n",
       "      <td>0</td>\n",
       "      <td>0.0</td>\n",
       "      <td>9008</td>\n",
       "      <td>0.953429</td>\n",
       "      <td>2</td>\n",
       "      <td>int64</td>\n",
       "    </tr>\n",
       "    <tr>\n",
       "      <th>8</th>\n",
       "      <td>Drama</td>\n",
       "      <td>0</td>\n",
       "      <td>0.0</td>\n",
       "      <td>5178</td>\n",
       "      <td>0.548052</td>\n",
       "      <td>2</td>\n",
       "      <td>int64</td>\n",
       "    </tr>\n",
       "    <tr>\n",
       "      <th>9</th>\n",
       "      <td>Fantasy</td>\n",
       "      <td>0</td>\n",
       "      <td>0.0</td>\n",
       "      <td>8693</td>\n",
       "      <td>0.920089</td>\n",
       "      <td>2</td>\n",
       "      <td>int64</td>\n",
       "    </tr>\n",
       "    <tr>\n",
       "      <th>10</th>\n",
       "      <td>Film-Noir</td>\n",
       "      <td>0</td>\n",
       "      <td>0.0</td>\n",
       "      <td>9362</td>\n",
       "      <td>0.990898</td>\n",
       "      <td>2</td>\n",
       "      <td>int64</td>\n",
       "    </tr>\n",
       "    <tr>\n",
       "      <th>11</th>\n",
       "      <td>Horror</td>\n",
       "      <td>0</td>\n",
       "      <td>0.0</td>\n",
       "      <td>8510</td>\n",
       "      <td>0.900720</td>\n",
       "      <td>2</td>\n",
       "      <td>int64</td>\n",
       "    </tr>\n",
       "    <tr>\n",
       "      <th>12</th>\n",
       "      <td>IMAX</td>\n",
       "      <td>0</td>\n",
       "      <td>0.0</td>\n",
       "      <td>9290</td>\n",
       "      <td>0.983277</td>\n",
       "      <td>2</td>\n",
       "      <td>int64</td>\n",
       "    </tr>\n",
       "    <tr>\n",
       "      <th>13</th>\n",
       "      <td>Musical</td>\n",
       "      <td>0</td>\n",
       "      <td>0.0</td>\n",
       "      <td>9118</td>\n",
       "      <td>0.965072</td>\n",
       "      <td>2</td>\n",
       "      <td>int64</td>\n",
       "    </tr>\n",
       "    <tr>\n",
       "      <th>14</th>\n",
       "      <td>Mystery</td>\n",
       "      <td>0</td>\n",
       "      <td>0.0</td>\n",
       "      <td>8882</td>\n",
       "      <td>0.940093</td>\n",
       "      <td>2</td>\n",
       "      <td>int64</td>\n",
       "    </tr>\n",
       "    <tr>\n",
       "      <th>15</th>\n",
       "      <td>Romance</td>\n",
       "      <td>0</td>\n",
       "      <td>0.0</td>\n",
       "      <td>7881</td>\n",
       "      <td>0.834145</td>\n",
       "      <td>2</td>\n",
       "      <td>int64</td>\n",
       "    </tr>\n",
       "    <tr>\n",
       "      <th>16</th>\n",
       "      <td>Sci-Fi</td>\n",
       "      <td>0</td>\n",
       "      <td>0.0</td>\n",
       "      <td>8489</td>\n",
       "      <td>0.898497</td>\n",
       "      <td>2</td>\n",
       "      <td>int64</td>\n",
       "    </tr>\n",
       "    <tr>\n",
       "      <th>17</th>\n",
       "      <td>Thriller</td>\n",
       "      <td>0</td>\n",
       "      <td>0.0</td>\n",
       "      <td>7595</td>\n",
       "      <td>0.803874</td>\n",
       "      <td>2</td>\n",
       "      <td>int64</td>\n",
       "    </tr>\n",
       "    <tr>\n",
       "      <th>18</th>\n",
       "      <td>War</td>\n",
       "      <td>0</td>\n",
       "      <td>0.0</td>\n",
       "      <td>9071</td>\n",
       "      <td>0.960097</td>\n",
       "      <td>2</td>\n",
       "      <td>int64</td>\n",
       "    </tr>\n",
       "    <tr>\n",
       "      <th>19</th>\n",
       "      <td>Western</td>\n",
       "      <td>0</td>\n",
       "      <td>0.0</td>\n",
       "      <td>9285</td>\n",
       "      <td>0.982748</td>\n",
       "      <td>2</td>\n",
       "      <td>int64</td>\n",
       "    </tr>\n",
       "    <tr>\n",
       "      <th>20</th>\n",
       "      <td>1900s</td>\n",
       "      <td>0</td>\n",
       "      <td>0.0</td>\n",
       "      <td>9446</td>\n",
       "      <td>0.999788</td>\n",
       "      <td>2</td>\n",
       "      <td>bool</td>\n",
       "    </tr>\n",
       "    <tr>\n",
       "      <th>21</th>\n",
       "      <td>1910s</td>\n",
       "      <td>0</td>\n",
       "      <td>0.0</td>\n",
       "      <td>9442</td>\n",
       "      <td>0.999365</td>\n",
       "      <td>2</td>\n",
       "      <td>bool</td>\n",
       "    </tr>\n",
       "    <tr>\n",
       "      <th>22</th>\n",
       "      <td>1920s</td>\n",
       "      <td>0</td>\n",
       "      <td>0.0</td>\n",
       "      <td>9415</td>\n",
       "      <td>0.996507</td>\n",
       "      <td>2</td>\n",
       "      <td>bool</td>\n",
       "    </tr>\n",
       "    <tr>\n",
       "      <th>23</th>\n",
       "      <td>1930s</td>\n",
       "      <td>0</td>\n",
       "      <td>0.0</td>\n",
       "      <td>9326</td>\n",
       "      <td>0.987087</td>\n",
       "      <td>2</td>\n",
       "      <td>bool</td>\n",
       "    </tr>\n",
       "    <tr>\n",
       "      <th>24</th>\n",
       "      <td>1940s</td>\n",
       "      <td>0</td>\n",
       "      <td>0.0</td>\n",
       "      <td>9264</td>\n",
       "      <td>0.980525</td>\n",
       "      <td>2</td>\n",
       "      <td>bool</td>\n",
       "    </tr>\n",
       "    <tr>\n",
       "      <th>25</th>\n",
       "      <td>1950s</td>\n",
       "      <td>0</td>\n",
       "      <td>0.0</td>\n",
       "      <td>9184</td>\n",
       "      <td>0.972058</td>\n",
       "      <td>2</td>\n",
       "      <td>bool</td>\n",
       "    </tr>\n",
       "    <tr>\n",
       "      <th>26</th>\n",
       "      <td>1960s</td>\n",
       "      <td>0</td>\n",
       "      <td>0.0</td>\n",
       "      <td>9062</td>\n",
       "      <td>0.959145</td>\n",
       "      <td>2</td>\n",
       "      <td>bool</td>\n",
       "    </tr>\n",
       "    <tr>\n",
       "      <th>27</th>\n",
       "      <td>1970s</td>\n",
       "      <td>0</td>\n",
       "      <td>0.0</td>\n",
       "      <td>8961</td>\n",
       "      <td>0.948455</td>\n",
       "      <td>2</td>\n",
       "      <td>bool</td>\n",
       "    </tr>\n",
       "    <tr>\n",
       "      <th>28</th>\n",
       "      <td>1980s</td>\n",
       "      <td>0</td>\n",
       "      <td>0.0</td>\n",
       "      <td>8282</td>\n",
       "      <td>0.876588</td>\n",
       "      <td>2</td>\n",
       "      <td>bool</td>\n",
       "    </tr>\n",
       "    <tr>\n",
       "      <th>29</th>\n",
       "      <td>1990s</td>\n",
       "      <td>0</td>\n",
       "      <td>0.0</td>\n",
       "      <td>7259</td>\n",
       "      <td>0.768311</td>\n",
       "      <td>2</td>\n",
       "      <td>bool</td>\n",
       "    </tr>\n",
       "    <tr>\n",
       "      <th>30</th>\n",
       "      <td>2000s</td>\n",
       "      <td>0</td>\n",
       "      <td>0.0</td>\n",
       "      <td>6695</td>\n",
       "      <td>0.708616</td>\n",
       "      <td>2</td>\n",
       "      <td>bool</td>\n",
       "    </tr>\n",
       "    <tr>\n",
       "      <th>31</th>\n",
       "      <td>2010s</td>\n",
       "      <td>0</td>\n",
       "      <td>0.0</td>\n",
       "      <td>7605</td>\n",
       "      <td>0.804932</td>\n",
       "      <td>2</td>\n",
       "      <td>bool</td>\n",
       "    </tr>\n",
       "    <tr>\n",
       "      <th>32</th>\n",
       "      <td>unknown</td>\n",
       "      <td>0</td>\n",
       "      <td>0.0</td>\n",
       "      <td>9435</td>\n",
       "      <td>0.998624</td>\n",
       "      <td>2</td>\n",
       "      <td>bool</td>\n",
       "    </tr>\n",
       "  </tbody>\n",
       "</table>\n",
       "</div>"
      ],
      "text/plain": [
       "              variable  q_nan  p_nan  q_zeros   p_zeros  unique   type\n",
       "0   (no genres listed)      0    0.0     9414  0.996401       2  int64\n",
       "1               Action      0    0.0     7667  0.811494       2  int64\n",
       "2            Adventure      0    0.0     8217  0.869708       2  int64\n",
       "3            Animation      0    0.0     8837  0.935330       2  int64\n",
       "4             Children      0    0.0     8800  0.931414       2  int64\n",
       "5               Comedy      0    0.0     5750  0.608594       2  int64\n",
       "6                Crime      0    0.0     8267  0.875000       2  int64\n",
       "7          Documentary      0    0.0     9008  0.953429       2  int64\n",
       "8                Drama      0    0.0     5178  0.548052       2  int64\n",
       "9              Fantasy      0    0.0     8693  0.920089       2  int64\n",
       "10           Film-Noir      0    0.0     9362  0.990898       2  int64\n",
       "11              Horror      0    0.0     8510  0.900720       2  int64\n",
       "12                IMAX      0    0.0     9290  0.983277       2  int64\n",
       "13             Musical      0    0.0     9118  0.965072       2  int64\n",
       "14             Mystery      0    0.0     8882  0.940093       2  int64\n",
       "15             Romance      0    0.0     7881  0.834145       2  int64\n",
       "16              Sci-Fi      0    0.0     8489  0.898497       2  int64\n",
       "17            Thriller      0    0.0     7595  0.803874       2  int64\n",
       "18                 War      0    0.0     9071  0.960097       2  int64\n",
       "19             Western      0    0.0     9285  0.982748       2  int64\n",
       "20               1900s      0    0.0     9446  0.999788       2   bool\n",
       "21               1910s      0    0.0     9442  0.999365       2   bool\n",
       "22               1920s      0    0.0     9415  0.996507       2   bool\n",
       "23               1930s      0    0.0     9326  0.987087       2   bool\n",
       "24               1940s      0    0.0     9264  0.980525       2   bool\n",
       "25               1950s      0    0.0     9184  0.972058       2   bool\n",
       "26               1960s      0    0.0     9062  0.959145       2   bool\n",
       "27               1970s      0    0.0     8961  0.948455       2   bool\n",
       "28               1980s      0    0.0     8282  0.876588       2   bool\n",
       "29               1990s      0    0.0     7259  0.768311       2   bool\n",
       "30               2000s      0    0.0     6695  0.708616       2   bool\n",
       "31               2010s      0    0.0     7605  0.804932       2   bool\n",
       "32             unknown      0    0.0     9435  0.998624       2   bool"
      ]
     },
     "execution_count": 10,
     "metadata": {},
     "output_type": "execute_result"
    }
   ],
   "source": [
    "status(features_df)"
   ]
  },
  {
   "cell_type": "markdown",
   "metadata": {},
   "source": [
    "As we are going to use a technique called collaborative filtering to generate recommendations for users, we need to transform our data into a user-item(\"utility) matrix."
   ]
  },
  {
   "cell_type": "markdown",
   "metadata": {},
   "source": [
    "In this matrix, rows represent users and columns represent movies. Each value for each element of the matrix represent the rating the user gave that movie."
   ]
  },
  {
   "cell_type": "markdown",
   "metadata": {},
   "source": [
    "In this type of technique we do not require any information about the users or the movies in order to generate the recommendations."
   ]
  },
  {
   "cell_type": "markdown",
   "metadata": {},
   "source": [
    "### Matrix creation"
   ]
  },
  {
   "cell_type": "markdown",
   "metadata": {},
   "source": [
    "Apart from creating the matrix, we are going to create four mapper directories:\n",
    "- **userId_mapper**: maps user id to user index\n",
    "- **movieTitle_mapper**: maps movie id to user index\n",
    "- **userId_inv_mapper**: maps user index to user id\n",
    "- **movieTitle_inv_mapper**: maps movie index to movie id"
   ]
  },
  {
   "cell_type": "markdown",
   "metadata": {},
   "source": [
    "These dictionaries are importante because they map which column/row of the utility matrix corresponds to which user/movie id "
   ]
  },
  {
   "cell_type": "code",
   "execution_count": 11,
   "metadata": {},
   "outputs": [],
   "source": [
    "from scipy.sparse import csr_matrix\n",
    "import numpy as np"
   ]
  },
  {
   "cell_type": "markdown",
   "metadata": {},
   "source": [
    "The following code block generates a *sparse matrix* from the `data` dataframe"
   ]
  },
  {
   "cell_type": "code",
   "execution_count": 12,
   "metadata": {},
   "outputs": [],
   "source": [
    "def create_matrix(df):\n",
    "    \"\"\"\n",
    "    Creates a sparse matrix from a dataframe\n",
    "\n",
    "    Args:\n",
    "        df: pandas dataframe\n",
    "\n",
    "    Returns:\n",
    "        matrix: sparse matrix\n",
    "        userId_mapper: dictionary that maps user id´s to user indices\n",
    "        imdbId_mapper: dictionary that maps imdb id´s to imdb indices\n",
    "        userId_inv_mapper: dictionary that maps user indices to user id´s\n",
    "        imdbId_inv_mapper: dictionary that maps imdb indices to imdb id´s\n",
    "    \n",
    "    \"\"\"\n",
    "    U = df[\"userId\"].nunique()\n",
    "    M = df[\"imdbId\"].nunique()\n",
    "\n",
    "    userId_mapper = dict(zip(np.unique(df[\"userId\"]), list(range(U))))\n",
    "    imdbId_mapper = dict(zip(np.unique(df[\"imdbId\"]), list(range(M))))\n",
    "\n",
    "    userId_inv_mapper = dict(zip(list(range(U)), np.unique(df[\"userId\"])))\n",
    "    imdbId_inv_mapper = dict(zip(list(range(M)), np.unique(df[\"imdbId\"])))\n",
    "\n",
    "    user_index = [userId_mapper[i] for i in df[\"userId\"]]\n",
    "    imdbId_index = [imdbId_mapper[i] for i in df[\"imdbId\"]]\n",
    "\n",
    "    matrix = csr_matrix((df[\"rating\"], (user_index, imdbId_index)), shape=(U,M))\n",
    "\n",
    "    return matrix, userId_mapper, imdbId_mapper, userId_inv_mapper, imdbId_inv_mapper\n",
    "\n",
    "matrix, userId_mapper, imdbId_mapper, userId_inv_mapper, imdbId_inv_mapper = create_matrix(data)"
   ]
  },
  {
   "cell_type": "code",
   "execution_count": 13,
   "metadata": {},
   "outputs": [
    {
     "data": {
      "text/plain": [
       "(610, 9724)"
      ]
     },
     "execution_count": 13,
     "metadata": {},
     "output_type": "execute_result"
    }
   ],
   "source": [
    "matrix.shape"
   ]
  },
  {
   "cell_type": "markdown",
   "metadata": {},
   "source": [
    "Our matrix contains 610 users and 9724 movies. "
   ]
  },
  {
   "cell_type": "code",
   "execution_count": 14,
   "metadata": {},
   "outputs": [
    {
     "data": {
      "text/plain": [
       "{1: 0,\n",
       " 2: 1,\n",
       " 3: 2,\n",
       " 4: 3,\n",
       " 5: 4,\n",
       " 6: 5,\n",
       " 7: 6,\n",
       " 8: 7,\n",
       " 9: 8,\n",
       " 10: 9,\n",
       " 11: 10,\n",
       " 12: 11,\n",
       " 13: 12,\n",
       " 14: 13,\n",
       " 15: 14,\n",
       " 16: 15,\n",
       " 17: 16,\n",
       " 18: 17,\n",
       " 19: 18,\n",
       " 20: 19,\n",
       " 21: 20,\n",
       " 22: 21,\n",
       " 23: 22,\n",
       " 24: 23,\n",
       " 25: 24,\n",
       " 26: 25,\n",
       " 27: 26,\n",
       " 28: 27,\n",
       " 29: 28,\n",
       " 30: 29,\n",
       " 31: 30,\n",
       " 32: 31,\n",
       " 33: 32,\n",
       " 34: 33,\n",
       " 35: 34,\n",
       " 36: 35,\n",
       " 37: 36,\n",
       " 38: 37,\n",
       " 39: 38,\n",
       " 40: 39,\n",
       " 41: 40,\n",
       " 42: 41,\n",
       " 43: 42,\n",
       " 44: 43,\n",
       " 45: 44,\n",
       " 46: 45,\n",
       " 47: 46,\n",
       " 48: 47,\n",
       " 49: 48,\n",
       " 50: 49,\n",
       " 51: 50,\n",
       " 52: 51,\n",
       " 53: 52,\n",
       " 54: 53,\n",
       " 55: 54,\n",
       " 56: 55,\n",
       " 57: 56,\n",
       " 58: 57,\n",
       " 59: 58,\n",
       " 60: 59,\n",
       " 61: 60,\n",
       " 62: 61,\n",
       " 63: 62,\n",
       " 64: 63,\n",
       " 65: 64,\n",
       " 66: 65,\n",
       " 67: 66,\n",
       " 68: 67,\n",
       " 69: 68,\n",
       " 70: 69,\n",
       " 71: 70,\n",
       " 72: 71,\n",
       " 73: 72,\n",
       " 74: 73,\n",
       " 75: 74,\n",
       " 76: 75,\n",
       " 77: 76,\n",
       " 78: 77,\n",
       " 79: 78,\n",
       " 80: 79,\n",
       " 81: 80,\n",
       " 82: 81,\n",
       " 83: 82,\n",
       " 84: 83,\n",
       " 85: 84,\n",
       " 86: 85,\n",
       " 87: 86,\n",
       " 88: 87,\n",
       " 89: 88,\n",
       " 90: 89,\n",
       " 91: 90,\n",
       " 92: 91,\n",
       " 93: 92,\n",
       " 94: 93,\n",
       " 95: 94,\n",
       " 96: 95,\n",
       " 97: 96,\n",
       " 98: 97,\n",
       " 99: 98,\n",
       " 100: 99,\n",
       " 101: 100,\n",
       " 102: 101,\n",
       " 103: 102,\n",
       " 104: 103,\n",
       " 105: 104,\n",
       " 106: 105,\n",
       " 107: 106,\n",
       " 108: 107,\n",
       " 109: 108,\n",
       " 110: 109,\n",
       " 111: 110,\n",
       " 112: 111,\n",
       " 113: 112,\n",
       " 114: 113,\n",
       " 115: 114,\n",
       " 116: 115,\n",
       " 117: 116,\n",
       " 118: 117,\n",
       " 119: 118,\n",
       " 120: 119,\n",
       " 121: 120,\n",
       " 122: 121,\n",
       " 123: 122,\n",
       " 124: 123,\n",
       " 125: 124,\n",
       " 126: 125,\n",
       " 127: 126,\n",
       " 128: 127,\n",
       " 129: 128,\n",
       " 130: 129,\n",
       " 131: 130,\n",
       " 132: 131,\n",
       " 133: 132,\n",
       " 134: 133,\n",
       " 135: 134,\n",
       " 136: 135,\n",
       " 137: 136,\n",
       " 138: 137,\n",
       " 139: 138,\n",
       " 140: 139,\n",
       " 141: 140,\n",
       " 142: 141,\n",
       " 143: 142,\n",
       " 144: 143,\n",
       " 145: 144,\n",
       " 146: 145,\n",
       " 147: 146,\n",
       " 148: 147,\n",
       " 149: 148,\n",
       " 150: 149,\n",
       " 151: 150,\n",
       " 152: 151,\n",
       " 153: 152,\n",
       " 154: 153,\n",
       " 155: 154,\n",
       " 156: 155,\n",
       " 157: 156,\n",
       " 158: 157,\n",
       " 159: 158,\n",
       " 160: 159,\n",
       " 161: 160,\n",
       " 162: 161,\n",
       " 163: 162,\n",
       " 164: 163,\n",
       " 165: 164,\n",
       " 166: 165,\n",
       " 167: 166,\n",
       " 168: 167,\n",
       " 169: 168,\n",
       " 170: 169,\n",
       " 171: 170,\n",
       " 172: 171,\n",
       " 173: 172,\n",
       " 174: 173,\n",
       " 175: 174,\n",
       " 176: 175,\n",
       " 177: 176,\n",
       " 178: 177,\n",
       " 179: 178,\n",
       " 180: 179,\n",
       " 181: 180,\n",
       " 182: 181,\n",
       " 183: 182,\n",
       " 184: 183,\n",
       " 185: 184,\n",
       " 186: 185,\n",
       " 187: 186,\n",
       " 188: 187,\n",
       " 189: 188,\n",
       " 190: 189,\n",
       " 191: 190,\n",
       " 192: 191,\n",
       " 193: 192,\n",
       " 194: 193,\n",
       " 195: 194,\n",
       " 196: 195,\n",
       " 197: 196,\n",
       " 198: 197,\n",
       " 199: 198,\n",
       " 200: 199,\n",
       " 201: 200,\n",
       " 202: 201,\n",
       " 203: 202,\n",
       " 204: 203,\n",
       " 205: 204,\n",
       " 206: 205,\n",
       " 207: 206,\n",
       " 208: 207,\n",
       " 209: 208,\n",
       " 210: 209,\n",
       " 211: 210,\n",
       " 212: 211,\n",
       " 213: 212,\n",
       " 214: 213,\n",
       " 215: 214,\n",
       " 216: 215,\n",
       " 217: 216,\n",
       " 218: 217,\n",
       " 219: 218,\n",
       " 220: 219,\n",
       " 221: 220,\n",
       " 222: 221,\n",
       " 223: 222,\n",
       " 224: 223,\n",
       " 225: 224,\n",
       " 226: 225,\n",
       " 227: 226,\n",
       " 228: 227,\n",
       " 229: 228,\n",
       " 230: 229,\n",
       " 231: 230,\n",
       " 232: 231,\n",
       " 233: 232,\n",
       " 234: 233,\n",
       " 235: 234,\n",
       " 236: 235,\n",
       " 237: 236,\n",
       " 238: 237,\n",
       " 239: 238,\n",
       " 240: 239,\n",
       " 241: 240,\n",
       " 242: 241,\n",
       " 243: 242,\n",
       " 244: 243,\n",
       " 245: 244,\n",
       " 246: 245,\n",
       " 247: 246,\n",
       " 248: 247,\n",
       " 249: 248,\n",
       " 250: 249,\n",
       " 251: 250,\n",
       " 252: 251,\n",
       " 253: 252,\n",
       " 254: 253,\n",
       " 255: 254,\n",
       " 256: 255,\n",
       " 257: 256,\n",
       " 258: 257,\n",
       " 259: 258,\n",
       " 260: 259,\n",
       " 261: 260,\n",
       " 262: 261,\n",
       " 263: 262,\n",
       " 264: 263,\n",
       " 265: 264,\n",
       " 266: 265,\n",
       " 267: 266,\n",
       " 268: 267,\n",
       " 269: 268,\n",
       " 270: 269,\n",
       " 271: 270,\n",
       " 272: 271,\n",
       " 273: 272,\n",
       " 274: 273,\n",
       " 275: 274,\n",
       " 276: 275,\n",
       " 277: 276,\n",
       " 278: 277,\n",
       " 279: 278,\n",
       " 280: 279,\n",
       " 281: 280,\n",
       " 282: 281,\n",
       " 283: 282,\n",
       " 284: 283,\n",
       " 285: 284,\n",
       " 286: 285,\n",
       " 287: 286,\n",
       " 288: 287,\n",
       " 289: 288,\n",
       " 290: 289,\n",
       " 291: 290,\n",
       " 292: 291,\n",
       " 293: 292,\n",
       " 294: 293,\n",
       " 295: 294,\n",
       " 296: 295,\n",
       " 297: 296,\n",
       " 298: 297,\n",
       " 299: 298,\n",
       " 300: 299,\n",
       " 301: 300,\n",
       " 302: 301,\n",
       " 303: 302,\n",
       " 304: 303,\n",
       " 305: 304,\n",
       " 306: 305,\n",
       " 307: 306,\n",
       " 308: 307,\n",
       " 309: 308,\n",
       " 310: 309,\n",
       " 311: 310,\n",
       " 312: 311,\n",
       " 313: 312,\n",
       " 314: 313,\n",
       " 315: 314,\n",
       " 316: 315,\n",
       " 317: 316,\n",
       " 318: 317,\n",
       " 319: 318,\n",
       " 320: 319,\n",
       " 321: 320,\n",
       " 322: 321,\n",
       " 323: 322,\n",
       " 324: 323,\n",
       " 325: 324,\n",
       " 326: 325,\n",
       " 327: 326,\n",
       " 328: 327,\n",
       " 329: 328,\n",
       " 330: 329,\n",
       " 331: 330,\n",
       " 332: 331,\n",
       " 333: 332,\n",
       " 334: 333,\n",
       " 335: 334,\n",
       " 336: 335,\n",
       " 337: 336,\n",
       " 338: 337,\n",
       " 339: 338,\n",
       " 340: 339,\n",
       " 341: 340,\n",
       " 342: 341,\n",
       " 343: 342,\n",
       " 344: 343,\n",
       " 345: 344,\n",
       " 346: 345,\n",
       " 347: 346,\n",
       " 348: 347,\n",
       " 349: 348,\n",
       " 350: 349,\n",
       " 351: 350,\n",
       " 352: 351,\n",
       " 353: 352,\n",
       " 354: 353,\n",
       " 355: 354,\n",
       " 356: 355,\n",
       " 357: 356,\n",
       " 358: 357,\n",
       " 359: 358,\n",
       " 360: 359,\n",
       " 361: 360,\n",
       " 362: 361,\n",
       " 363: 362,\n",
       " 364: 363,\n",
       " 365: 364,\n",
       " 366: 365,\n",
       " 367: 366,\n",
       " 368: 367,\n",
       " 369: 368,\n",
       " 370: 369,\n",
       " 371: 370,\n",
       " 372: 371,\n",
       " 373: 372,\n",
       " 374: 373,\n",
       " 375: 374,\n",
       " 376: 375,\n",
       " 377: 376,\n",
       " 378: 377,\n",
       " 379: 378,\n",
       " 380: 379,\n",
       " 381: 380,\n",
       " 382: 381,\n",
       " 383: 382,\n",
       " 384: 383,\n",
       " 385: 384,\n",
       " 386: 385,\n",
       " 387: 386,\n",
       " 388: 387,\n",
       " 389: 388,\n",
       " 390: 389,\n",
       " 391: 390,\n",
       " 392: 391,\n",
       " 393: 392,\n",
       " 394: 393,\n",
       " 395: 394,\n",
       " 396: 395,\n",
       " 397: 396,\n",
       " 398: 397,\n",
       " 399: 398,\n",
       " 400: 399,\n",
       " 401: 400,\n",
       " 402: 401,\n",
       " 403: 402,\n",
       " 404: 403,\n",
       " 405: 404,\n",
       " 406: 405,\n",
       " 407: 406,\n",
       " 408: 407,\n",
       " 409: 408,\n",
       " 410: 409,\n",
       " 411: 410,\n",
       " 412: 411,\n",
       " 413: 412,\n",
       " 414: 413,\n",
       " 415: 414,\n",
       " 416: 415,\n",
       " 417: 416,\n",
       " 418: 417,\n",
       " 419: 418,\n",
       " 420: 419,\n",
       " 421: 420,\n",
       " 422: 421,\n",
       " 423: 422,\n",
       " 424: 423,\n",
       " 425: 424,\n",
       " 426: 425,\n",
       " 427: 426,\n",
       " 428: 427,\n",
       " 429: 428,\n",
       " 430: 429,\n",
       " 431: 430,\n",
       " 432: 431,\n",
       " 433: 432,\n",
       " 434: 433,\n",
       " 435: 434,\n",
       " 436: 435,\n",
       " 437: 436,\n",
       " 438: 437,\n",
       " 439: 438,\n",
       " 440: 439,\n",
       " 441: 440,\n",
       " 442: 441,\n",
       " 443: 442,\n",
       " 444: 443,\n",
       " 445: 444,\n",
       " 446: 445,\n",
       " 447: 446,\n",
       " 448: 447,\n",
       " 449: 448,\n",
       " 450: 449,\n",
       " 451: 450,\n",
       " 452: 451,\n",
       " 453: 452,\n",
       " 454: 453,\n",
       " 455: 454,\n",
       " 456: 455,\n",
       " 457: 456,\n",
       " 458: 457,\n",
       " 459: 458,\n",
       " 460: 459,\n",
       " 461: 460,\n",
       " 462: 461,\n",
       " 463: 462,\n",
       " 464: 463,\n",
       " 465: 464,\n",
       " 466: 465,\n",
       " 467: 466,\n",
       " 468: 467,\n",
       " 469: 468,\n",
       " 470: 469,\n",
       " 471: 470,\n",
       " 472: 471,\n",
       " 473: 472,\n",
       " 474: 473,\n",
       " 475: 474,\n",
       " 476: 475,\n",
       " 477: 476,\n",
       " 478: 477,\n",
       " 479: 478,\n",
       " 480: 479,\n",
       " 481: 480,\n",
       " 482: 481,\n",
       " 483: 482,\n",
       " 484: 483,\n",
       " 485: 484,\n",
       " 486: 485,\n",
       " 487: 486,\n",
       " 488: 487,\n",
       " 489: 488,\n",
       " 490: 489,\n",
       " 491: 490,\n",
       " 492: 491,\n",
       " 493: 492,\n",
       " 494: 493,\n",
       " 495: 494,\n",
       " 496: 495,\n",
       " 497: 496,\n",
       " 498: 497,\n",
       " 499: 498,\n",
       " 500: 499,\n",
       " 501: 500,\n",
       " 502: 501,\n",
       " 503: 502,\n",
       " 504: 503,\n",
       " 505: 504,\n",
       " 506: 505,\n",
       " 507: 506,\n",
       " 508: 507,\n",
       " 509: 508,\n",
       " 510: 509,\n",
       " 511: 510,\n",
       " 512: 511,\n",
       " 513: 512,\n",
       " 514: 513,\n",
       " 515: 514,\n",
       " 516: 515,\n",
       " 517: 516,\n",
       " 518: 517,\n",
       " 519: 518,\n",
       " 520: 519,\n",
       " 521: 520,\n",
       " 522: 521,\n",
       " 523: 522,\n",
       " 524: 523,\n",
       " 525: 524,\n",
       " 526: 525,\n",
       " 527: 526,\n",
       " 528: 527,\n",
       " 529: 528,\n",
       " 530: 529,\n",
       " 531: 530,\n",
       " 532: 531,\n",
       " 533: 532,\n",
       " 534: 533,\n",
       " 535: 534,\n",
       " 536: 535,\n",
       " 537: 536,\n",
       " 538: 537,\n",
       " 539: 538,\n",
       " 540: 539,\n",
       " 541: 540,\n",
       " 542: 541,\n",
       " 543: 542,\n",
       " 544: 543,\n",
       " 545: 544,\n",
       " 546: 545,\n",
       " 547: 546,\n",
       " 548: 547,\n",
       " 549: 548,\n",
       " 550: 549,\n",
       " 551: 550,\n",
       " 552: 551,\n",
       " 553: 552,\n",
       " 554: 553,\n",
       " 555: 554,\n",
       " 556: 555,\n",
       " 557: 556,\n",
       " 558: 557,\n",
       " 559: 558,\n",
       " 560: 559,\n",
       " 561: 560,\n",
       " 562: 561,\n",
       " 563: 562,\n",
       " 564: 563,\n",
       " 565: 564,\n",
       " 566: 565,\n",
       " 567: 566,\n",
       " 568: 567,\n",
       " 569: 568,\n",
       " 570: 569,\n",
       " 571: 570,\n",
       " 572: 571,\n",
       " 573: 572,\n",
       " 574: 573,\n",
       " 575: 574,\n",
       " 576: 575,\n",
       " 577: 576,\n",
       " 578: 577,\n",
       " 579: 578,\n",
       " 580: 579,\n",
       " 581: 580,\n",
       " 582: 581,\n",
       " 583: 582,\n",
       " 584: 583,\n",
       " 585: 584,\n",
       " 586: 585,\n",
       " 587: 586,\n",
       " 588: 587,\n",
       " 589: 588,\n",
       " 590: 589,\n",
       " 591: 590,\n",
       " 592: 591,\n",
       " 593: 592,\n",
       " 594: 593,\n",
       " 595: 594,\n",
       " 596: 595,\n",
       " 597: 596,\n",
       " 598: 597,\n",
       " 599: 598,\n",
       " 600: 599,\n",
       " 601: 600,\n",
       " 602: 601,\n",
       " 603: 602,\n",
       " 604: 603,\n",
       " 605: 604,\n",
       " 606: 605,\n",
       " 607: 606,\n",
       " 608: 607,\n",
       " 609: 608,\n",
       " 610: 609}"
      ]
     },
     "execution_count": 14,
     "metadata": {},
     "output_type": "execute_result"
    }
   ],
   "source": [
    "userId_mapper"
   ]
  },
  {
   "cell_type": "markdown",
   "metadata": {},
   "source": [
    "In order to know if using collaborative filtering is a good idea, we need to check the matrix sparsity with the next formula: \n",
    "$$\n",
    "\\text{sparsity} = \\frac{\\#\\text{ratings}}{\\#\\text{elements}}\n",
    "$$\n"
   ]
  },
  {
   "cell_type": "code",
   "execution_count": 15,
   "metadata": {},
   "outputs": [],
   "source": [
    "n_elements = matrix.shape[0] * matrix.shape[1]\n",
    "n_ratings = matrix.nnz\n",
    "sparsity = n_ratings / n_elements"
   ]
  },
  {
   "cell_type": "code",
   "execution_count": 16,
   "metadata": {},
   "outputs": [
    {
     "data": {
      "text/plain": [
       "1.7"
      ]
     },
     "execution_count": 16,
     "metadata": {},
     "output_type": "execute_result"
    }
   ],
   "source": [
    "round(sparsity*100,2)"
   ]
  },
  {
   "cell_type": "markdown",
   "metadata": {},
   "source": [
    "Only 1.7% of cells in our user-item matrix is populated with ratings."
   ]
  },
  {
   "cell_type": "markdown",
   "metadata": {},
   "source": [
    "It is considered that our matrix sparsity should be no lower than 0.5% in order to generate decent results."
   ]
  },
  {
   "cell_type": "markdown",
   "metadata": {},
   "source": [
    "### Item-Item recommendations with KNN"
   ]
  },
  {
   "cell_type": "markdown",
   "metadata": {},
   "source": [
    "We are going to use KNN in order to see the recommendations based only on user-item ratings."
   ]
  },
  {
   "cell_type": "code",
   "execution_count": 17,
   "metadata": {},
   "outputs": [],
   "source": [
    "from sklearn.neighbors import NearestNeighbors\n",
    "\n",
    "def find_similar_movies(movie_id, matrix, movie_mapper, movie_inv_mapper, k, metric=\"cosine\"):\n",
    "    \"\"\"\n",
    "    Find k-nearest neigbours for a given movie id.\n",
    "\n",
    "    Args:\n",
    "        movie_id: id of the movie of interest\n",
    "        matrix: use-item utility matrix\n",
    "        k: number of similar movies to retrieve\n",
    "        metric: distance metric for knn calculations\n",
    "\n",
    "    Returns:\n",
    "        neigbpour_ids: a list of k similar movie ID`s to the one of interest.\n",
    "    \"\"\"\n",
    "    matrix = matrix.T\n",
    "    neighbours_ids = []\n",
    "\n",
    "    movie_index = movie_mapper[movie_id]\n",
    "    movie_vec = matrix[movie_index]\n",
    "  \n",
    "\n",
    "    knn = NearestNeighbors(n_neighbors=k+1,algorithm=\"brute\",metric=metric)\n",
    "    knn.fit(matrix)\n",
    "\n",
    "    if isinstance(movie_vec, (np.ndarray)):\n",
    "            movie_vec = movie_vec.reshape(1,-1)\n",
    "    neighbours = knn.kneighbors(movie_vec, return_distance=False)\n",
    "\n",
    "    for i in range(0,k):\n",
    "        n = neighbours.item(i)\n",
    "        neighbours_ids.append(movie_inv_mapper[n])\n",
    "    neighbours_ids.pop(0)\n",
    "\n",
    "    return neighbours_ids"
   ]
  },
  {
   "cell_type": "code",
   "execution_count": 18,
   "metadata": {},
   "outputs": [
    {
     "data": {
      "text/plain": [
       "[88247, 93870, 63442, 79817, 94226, 73195, 80455, 55928, 91042]"
      ]
     },
     "execution_count": 18,
     "metadata": {},
     "output_type": "execute_result"
    }
   ],
   "source": [
    "similar_movies = find_similar_movies(75148, matrix, imdbId_mapper, imdbId_inv_mapper, k = 10)\n",
    "similar_movies"
   ]
  },
  {
   "cell_type": "markdown",
   "metadata": {},
   "source": [
    "The  `find_similar_movies()` function returns a list of movies **ID\\`s** that are similar to movie of our interest.  \n",
    "When doing the recommendations, we want to show to the user the movie´s title, so in order to do it I am going to make a dictionary that maps the **imbd ID´s** to **movies titles**. "
   ]
  },
  {
   "cell_type": "code",
   "execution_count": 19,
   "metadata": {},
   "outputs": [
    {
     "name": "stdout",
     "output_type": "stream",
     "text": [
      "Because you liked \"Rocky\", you should watch the following movies:\n",
      "- The Terminator\n",
      "- RoboCop\n",
      "- Planet of the Apes\n",
      "- Rocky II\n",
      "- The Untouchables\n",
      "- Jaws\n",
      "- The Blues Brothers\n",
      "- Dr. No\n",
      "- Ferris Bueller's Day Off\n"
     ]
    }
   ],
   "source": [
    "movie_titles = dict(zip(data[\"imdbId\"], data[\"title\"]))\n",
    "\n",
    "movie_id = 75148\n",
    "\n",
    "similar_movies = find_similar_movies(movie_id, matrix, imdbId_mapper, imdbId_inv_mapper, k = 10)\n",
    "similar_movies\n",
    "\n",
    "print(f\"Because you liked \\\"{movie_titles[movie_id]}\\\", you should watch the following movies:\")\n",
    "for j in similar_movies:\n",
    "    print(f\"- {movie_titles[j]}\")\n"
   ]
  },
  {
   "cell_type": "markdown",
   "metadata": {},
   "source": [
    "Now we can see the titles of the 9 movies that are most similar to Rocky. Some movies are from the same the decade such as **\"The Terminator\"** and **\"RoboCop\"**"
   ]
  },
  {
   "cell_type": "markdown",
   "metadata": {},
   "source": [
    "We can also choose another knn distance metric instead of *\"cosine\"*.  \n",
    "Lets try the *\"euclidean\"* one."
   ]
  },
  {
   "cell_type": "code",
   "execution_count": 20,
   "metadata": {},
   "outputs": [
    {
     "name": "stdout",
     "output_type": "stream",
     "text": [
      "Because you liked \"Rocky\", you should watch the following movies:\n",
      "- Rocky II\n",
      "- Dr. No\n",
      "- Rocky III\n",
      "- Rocky IV\n",
      "- First Blood (Rambo: First Blood)\n",
      "- RoboCop\n",
      "- Planet of the Apes\n",
      "- Escape from New York\n",
      "- The Manchurian Candidate\n"
     ]
    }
   ],
   "source": [
    "similar_movies = find_similar_movies(movie_id, matrix, imdbId_mapper, imdbId_inv_mapper, metric=\"euclidean\",k = 10)\n",
    "similar_movies\n",
    "\n",
    "print(f\"Because you liked \\\"{movie_titles[movie_id]}\\\", you should watch the following movies:\")\n",
    "for j in similar_movies:\n",
    "    print(f\"- {movie_titles[j]}\")"
   ]
  },
  {
   "cell_type": "markdown",
   "metadata": {},
   "source": [
    "Collaborative filtering relies solely on user-item interactions within the utility matrix."
   ]
  },
  {
   "cell_type": "markdown",
   "metadata": {},
   "source": [
    "So the issue when using collaborative filtering is that brand new users or items with no interactions get excluded from the recommendation system."
   ]
  },
  {
   "cell_type": "markdown",
   "metadata": {},
   "source": [
    "This is called the ***\"Cold-start Problem\"***."
   ]
  },
  {
   "cell_type": "markdown",
   "metadata": {},
   "source": [
    "### Handling Cold-start Problem with Content-Based Filtering"
   ]
  },
  {
   "cell_type": "markdown",
   "metadata": {},
   "source": [
    "Content-based filtering is a way to handle the cold-start problem by generating recommendations based on user and item features.    \n",
    "\n",
    "In this case, I am going to use item features such as the **genres** and in what **decade** was released the movie. "
   ]
  },
  {
   "cell_type": "markdown",
   "metadata": {},
   "source": [
    "To build our *item-item recommender* we are going to use a similarity metric called ***cosine similarity***"
   ]
  },
  {
   "cell_type": "markdown",
   "metadata": {},
   "source": [
    "**Cosine similarity** looks at the angle between two vectors, *A* and *B*. The smaller the cosine angle, the higher the degree of similarity between *A* and *B*.  \n",
    "You can calculate the similarity between A and B with this equation:\n",
    "$$ \\cos(\\theta) = \\frac{A \\cdot B}{\\|A\\|\\|B\\|} $$"
   ]
  },
  {
   "cell_type": "markdown",
   "metadata": {},
   "source": [
    "In order words, the matrix is going to have values between 0 and 1 which represent the degree of similarity between movies along the x and y axes."
   ]
  },
  {
   "cell_type": "code",
   "execution_count": 21,
   "metadata": {},
   "outputs": [],
   "source": [
    "from sklearn.metrics.pairwise import cosine_similarity"
   ]
  },
  {
   "cell_type": "code",
   "execution_count": 22,
   "metadata": {},
   "outputs": [
    {
     "data": {
      "text/plain": [
       "array([[1.        , 0.18257419, 0.25819889, ..., 0.4472136 , 0.        ,\n",
       "        0.        ],\n",
       "       [0.18257419, 1.        , 0.        , ..., 0.40824829, 0.23570226,\n",
       "        0.23570226],\n",
       "       [0.25819889, 0.        , 1.        , ..., 0.        , 0.33333333,\n",
       "        0.33333333],\n",
       "       ...,\n",
       "       [0.4472136 , 0.40824829, 0.        , ..., 1.        , 0.        ,\n",
       "        0.        ],\n",
       "       [0.        , 0.23570226, 0.33333333, ..., 0.        , 1.        ,\n",
       "        0.33333333],\n",
       "       [0.        , 0.23570226, 0.33333333, ..., 0.        , 0.33333333,\n",
       "        1.        ]])"
      ]
     },
     "execution_count": 22,
     "metadata": {},
     "output_type": "execute_result"
    }
   ],
   "source": [
    "cosine_sim = cosine_similarity(features_df,features_df)\n",
    "cosine_sim"
   ]
  },
  {
   "cell_type": "markdown",
   "metadata": {},
   "source": [
    "We can see that the values can go from 0 up to 1."
   ]
  },
  {
   "cell_type": "code",
   "execution_count": 23,
   "metadata": {},
   "outputs": [
    {
     "data": {
      "text/plain": [
       "(9448, 9448)"
      ]
     },
     "execution_count": 23,
     "metadata": {},
     "output_type": "execute_result"
    }
   ],
   "source": [
    "cosine_sim.shape"
   ]
  },
  {
   "cell_type": "markdown",
   "metadata": {},
   "source": [
    "We got a cosine similarity matrix of shape (*n*<sub>movies</sub>, *n*<sub>movies</sub>)"
   ]
  },
  {
   "cell_type": "markdown",
   "metadata": {},
   "source": [
    "How many times we wrote the title of a movie and we misspelled it? So in order to avoid future problems, I am going to use **fuzywuzzy**´s matching algorithm to find the most similar title to the user-inputted string."
   ]
  },
  {
   "cell_type": "code",
   "execution_count": 24,
   "metadata": {},
   "outputs": [
    {
     "name": "stderr",
     "output_type": "stream",
     "text": [
      "/home/alumni/Programación/Proyectos/Data_Science/DataScience/lib/python3.11/site-packages/fuzzywuzzy/fuzz.py:11: UserWarning: Using slow pure-python SequenceMatcher. Install python-Levenshtein to remove this warning\n",
      "  warnings.warn('Using slow pure-python SequenceMatcher. Install python-Levenshtein to remove this warning')\n"
     ]
    }
   ],
   "source": [
    "from fuzzywuzzy import process\n",
    "\n",
    "def movie_finder(title):\n",
    "    \"\"\"\n",
    "    Finds the closest string match to the parameter title\n",
    "\n",
    "    Args:\n",
    "        title: Movie title string\n",
    "\n",
    "    Returns:\n",
    "        closest_match[0]: Returns the closest match, position 0\n",
    "    \"\"\"\n",
    "    all_titles = movies[\"title\"].tolist()\n",
    "    closest_match = process.extractOne(title,all_titles)\n",
    "    return closest_match[0]"
   ]
  },
  {
   "cell_type": "code",
   "execution_count": 25,
   "metadata": {},
   "outputs": [
    {
     "data": {
      "text/plain": [
       "'Star Wars: Episode IV - A New Hope'"
      ]
     },
     "execution_count": 25,
     "metadata": {},
     "output_type": "execute_result"
    }
   ],
   "source": [
    "movie_finder(\"starr warrs\")"
   ]
  },
  {
   "cell_type": "markdown",
   "metadata": {},
   "source": [
    "As you can see I wrote a mispelled and incompleted title, and it found its closest match."
   ]
  },
  {
   "cell_type": "markdown",
   "metadata": {},
   "source": [
    "Now we are going to create a dictionary that maps movies titles to movies index.  \n",
    "Basically if we try to search for a movie title, it will give us its index in **movies dataframe**."
   ]
  },
  {
   "cell_type": "code",
   "execution_count": 26,
   "metadata": {},
   "outputs": [
    {
     "data": {
      "text/plain": [
       "6004"
      ]
     },
     "execution_count": 26,
     "metadata": {},
     "output_type": "execute_result"
    }
   ],
   "source": [
    "movie_idx = dict(zip(movies[\"title\"],list(movies.index)))\n",
    "idx = movie_idx[\"Rocky\"]\n",
    "idx"
   ]
  },
  {
   "cell_type": "markdown",
   "metadata": {},
   "source": [
    "Now lets create a create a function that gives us recommendations using *content-based filtering*."
   ]
  },
  {
   "cell_type": "code",
   "execution_count": 27,
   "metadata": {},
   "outputs": [],
   "source": [
    "def get_recommendations(movie_title, n_recommendations = 5):\n",
    "    \"\"\"\n",
    "    Prints the n most similar recommendations for certain movie\n",
    "\n",
    "    Args:\n",
    "        movie_title: \n",
    "        n_recommendations:\n",
    "    \"\"\"\n",
    "    title = movie_finder(movie_title)\n",
    "    idx = movie_idx[title]\n",
    "    sim_scores = list(enumerate(cosine_sim[idx]))\n",
    "    sim_scores = sorted(sim_scores, key = lambda x:x[1], reverse = True)\n",
    "    sim_scores = sim_scores[1:(n_recommendations+1)]\n",
    "    similar_movies = [i[0] for i in sim_scores]\n",
    "    print(f\"If you liked {title}, you should watch:\")\n",
    "    print(movies['title'].iloc[similar_movies])"
   ]
  },
  {
   "cell_type": "code",
   "execution_count": 28,
   "metadata": {},
   "outputs": [
    {
     "name": "stdout",
     "output_type": "stream",
     "text": [
      "If you liked Rocky, you should watch:\n",
      "273       A Woman Under the Influence\n",
      "358                           Airport\n",
      "359                       Airport '77\n",
      "706       Autumn Sonata (Höstsonaten)\n",
      "1039    Billy Jack Goes to Washington\n",
      "Name: title, dtype: object\n"
     ]
    }
   ],
   "source": [
    "get_recommendations(\"Rocky (1976)\", 5)"
   ]
  },
  {
   "cell_type": "markdown",
   "metadata": {},
   "source": [
    "If we dive deep into these movies, we will notice that this movies were released in the 1970s decade.  \n",
    "So how about we remove the decades columns and use ***cosine similarity*** only with the *genres*."
   ]
  },
  {
   "cell_type": "code",
   "execution_count": 29,
   "metadata": {},
   "outputs": [
    {
     "data": {
      "text/html": [
       "<div>\n",
       "<style scoped>\n",
       "    .dataframe tbody tr th:only-of-type {\n",
       "        vertical-align: middle;\n",
       "    }\n",
       "\n",
       "    .dataframe tbody tr th {\n",
       "        vertical-align: top;\n",
       "    }\n",
       "\n",
       "    .dataframe thead th {\n",
       "        text-align: right;\n",
       "    }\n",
       "</style>\n",
       "<table border=\"1\" class=\"dataframe\">\n",
       "  <thead>\n",
       "    <tr style=\"text-align: right;\">\n",
       "      <th></th>\n",
       "      <th>(no genres listed)</th>\n",
       "      <th>Action</th>\n",
       "      <th>Adventure</th>\n",
       "      <th>Animation</th>\n",
       "      <th>Children</th>\n",
       "      <th>Comedy</th>\n",
       "      <th>Crime</th>\n",
       "      <th>Documentary</th>\n",
       "      <th>Drama</th>\n",
       "      <th>Fantasy</th>\n",
       "      <th>Film-Noir</th>\n",
       "      <th>Horror</th>\n",
       "      <th>IMAX</th>\n",
       "      <th>Musical</th>\n",
       "      <th>Mystery</th>\n",
       "      <th>Romance</th>\n",
       "      <th>Sci-Fi</th>\n",
       "      <th>Thriller</th>\n",
       "      <th>War</th>\n",
       "      <th>Western</th>\n",
       "    </tr>\n",
       "  </thead>\n",
       "  <tbody>\n",
       "    <tr>\n",
       "      <th>0</th>\n",
       "      <td>0</td>\n",
       "      <td>1</td>\n",
       "      <td>0</td>\n",
       "      <td>0</td>\n",
       "      <td>0</td>\n",
       "      <td>0</td>\n",
       "      <td>0</td>\n",
       "      <td>0</td>\n",
       "      <td>1</td>\n",
       "      <td>0</td>\n",
       "      <td>0</td>\n",
       "      <td>0</td>\n",
       "      <td>0</td>\n",
       "      <td>0</td>\n",
       "      <td>0</td>\n",
       "      <td>0</td>\n",
       "      <td>0</td>\n",
       "      <td>1</td>\n",
       "      <td>1</td>\n",
       "      <td>0</td>\n",
       "    </tr>\n",
       "    <tr>\n",
       "      <th>1</th>\n",
       "      <td>0</td>\n",
       "      <td>1</td>\n",
       "      <td>1</td>\n",
       "      <td>0</td>\n",
       "      <td>0</td>\n",
       "      <td>1</td>\n",
       "      <td>0</td>\n",
       "      <td>1</td>\n",
       "      <td>0</td>\n",
       "      <td>1</td>\n",
       "      <td>0</td>\n",
       "      <td>0</td>\n",
       "      <td>0</td>\n",
       "      <td>0</td>\n",
       "      <td>0</td>\n",
       "      <td>0</td>\n",
       "      <td>0</td>\n",
       "      <td>0</td>\n",
       "      <td>0</td>\n",
       "      <td>0</td>\n",
       "    </tr>\n",
       "    <tr>\n",
       "      <th>2</th>\n",
       "      <td>0</td>\n",
       "      <td>0</td>\n",
       "      <td>0</td>\n",
       "      <td>0</td>\n",
       "      <td>0</td>\n",
       "      <td>0</td>\n",
       "      <td>0</td>\n",
       "      <td>0</td>\n",
       "      <td>1</td>\n",
       "      <td>0</td>\n",
       "      <td>0</td>\n",
       "      <td>0</td>\n",
       "      <td>0</td>\n",
       "      <td>1</td>\n",
       "      <td>0</td>\n",
       "      <td>0</td>\n",
       "      <td>0</td>\n",
       "      <td>0</td>\n",
       "      <td>0</td>\n",
       "      <td>0</td>\n",
       "    </tr>\n",
       "    <tr>\n",
       "      <th>3</th>\n",
       "      <td>0</td>\n",
       "      <td>0</td>\n",
       "      <td>0</td>\n",
       "      <td>0</td>\n",
       "      <td>0</td>\n",
       "      <td>0</td>\n",
       "      <td>0</td>\n",
       "      <td>0</td>\n",
       "      <td>1</td>\n",
       "      <td>0</td>\n",
       "      <td>0</td>\n",
       "      <td>1</td>\n",
       "      <td>0</td>\n",
       "      <td>0</td>\n",
       "      <td>1</td>\n",
       "      <td>0</td>\n",
       "      <td>0</td>\n",
       "      <td>1</td>\n",
       "      <td>0</td>\n",
       "      <td>0</td>\n",
       "    </tr>\n",
       "    <tr>\n",
       "      <th>4</th>\n",
       "      <td>0</td>\n",
       "      <td>0</td>\n",
       "      <td>0</td>\n",
       "      <td>0</td>\n",
       "      <td>0</td>\n",
       "      <td>0</td>\n",
       "      <td>0</td>\n",
       "      <td>0</td>\n",
       "      <td>1</td>\n",
       "      <td>0</td>\n",
       "      <td>0</td>\n",
       "      <td>0</td>\n",
       "      <td>0</td>\n",
       "      <td>0</td>\n",
       "      <td>0</td>\n",
       "      <td>1</td>\n",
       "      <td>0</td>\n",
       "      <td>0</td>\n",
       "      <td>0</td>\n",
       "      <td>0</td>\n",
       "    </tr>\n",
       "    <tr>\n",
       "      <th>...</th>\n",
       "      <td>...</td>\n",
       "      <td>...</td>\n",
       "      <td>...</td>\n",
       "      <td>...</td>\n",
       "      <td>...</td>\n",
       "      <td>...</td>\n",
       "      <td>...</td>\n",
       "      <td>...</td>\n",
       "      <td>...</td>\n",
       "      <td>...</td>\n",
       "      <td>...</td>\n",
       "      <td>...</td>\n",
       "      <td>...</td>\n",
       "      <td>...</td>\n",
       "      <td>...</td>\n",
       "      <td>...</td>\n",
       "      <td>...</td>\n",
       "      <td>...</td>\n",
       "      <td>...</td>\n",
       "      <td>...</td>\n",
       "    </tr>\n",
       "    <tr>\n",
       "      <th>9443</th>\n",
       "      <td>0</td>\n",
       "      <td>1</td>\n",
       "      <td>0</td>\n",
       "      <td>0</td>\n",
       "      <td>0</td>\n",
       "      <td>0</td>\n",
       "      <td>0</td>\n",
       "      <td>0</td>\n",
       "      <td>0</td>\n",
       "      <td>0</td>\n",
       "      <td>0</td>\n",
       "      <td>0</td>\n",
       "      <td>0</td>\n",
       "      <td>0</td>\n",
       "      <td>0</td>\n",
       "      <td>0</td>\n",
       "      <td>1</td>\n",
       "      <td>1</td>\n",
       "      <td>0</td>\n",
       "      <td>0</td>\n",
       "    </tr>\n",
       "    <tr>\n",
       "      <th>9444</th>\n",
       "      <td>0</td>\n",
       "      <td>1</td>\n",
       "      <td>0</td>\n",
       "      <td>0</td>\n",
       "      <td>0</td>\n",
       "      <td>0</td>\n",
       "      <td>1</td>\n",
       "      <td>0</td>\n",
       "      <td>0</td>\n",
       "      <td>0</td>\n",
       "      <td>0</td>\n",
       "      <td>0</td>\n",
       "      <td>0</td>\n",
       "      <td>0</td>\n",
       "      <td>0</td>\n",
       "      <td>0</td>\n",
       "      <td>0</td>\n",
       "      <td>1</td>\n",
       "      <td>0</td>\n",
       "      <td>0</td>\n",
       "    </tr>\n",
       "    <tr>\n",
       "      <th>9445</th>\n",
       "      <td>0</td>\n",
       "      <td>1</td>\n",
       "      <td>0</td>\n",
       "      <td>0</td>\n",
       "      <td>0</td>\n",
       "      <td>0</td>\n",
       "      <td>1</td>\n",
       "      <td>0</td>\n",
       "      <td>0</td>\n",
       "      <td>0</td>\n",
       "      <td>0</td>\n",
       "      <td>0</td>\n",
       "      <td>0</td>\n",
       "      <td>0</td>\n",
       "      <td>0</td>\n",
       "      <td>0</td>\n",
       "      <td>0</td>\n",
       "      <td>1</td>\n",
       "      <td>0</td>\n",
       "      <td>0</td>\n",
       "    </tr>\n",
       "    <tr>\n",
       "      <th>9446</th>\n",
       "      <td>0</td>\n",
       "      <td>0</td>\n",
       "      <td>0</td>\n",
       "      <td>0</td>\n",
       "      <td>0</td>\n",
       "      <td>1</td>\n",
       "      <td>0</td>\n",
       "      <td>0</td>\n",
       "      <td>0</td>\n",
       "      <td>0</td>\n",
       "      <td>0</td>\n",
       "      <td>0</td>\n",
       "      <td>0</td>\n",
       "      <td>0</td>\n",
       "      <td>0</td>\n",
       "      <td>0</td>\n",
       "      <td>0</td>\n",
       "      <td>0</td>\n",
       "      <td>0</td>\n",
       "      <td>1</td>\n",
       "    </tr>\n",
       "    <tr>\n",
       "      <th>9447</th>\n",
       "      <td>0</td>\n",
       "      <td>0</td>\n",
       "      <td>0</td>\n",
       "      <td>0</td>\n",
       "      <td>0</td>\n",
       "      <td>1</td>\n",
       "      <td>0</td>\n",
       "      <td>0</td>\n",
       "      <td>0</td>\n",
       "      <td>0</td>\n",
       "      <td>0</td>\n",
       "      <td>0</td>\n",
       "      <td>0</td>\n",
       "      <td>1</td>\n",
       "      <td>0</td>\n",
       "      <td>0</td>\n",
       "      <td>0</td>\n",
       "      <td>0</td>\n",
       "      <td>0</td>\n",
       "      <td>0</td>\n",
       "    </tr>\n",
       "  </tbody>\n",
       "</table>\n",
       "<p>9448 rows × 20 columns</p>\n",
       "</div>"
      ],
      "text/plain": [
       "      (no genres listed)  Action  Adventure  Animation  Children  Comedy  \\\n",
       "0                      0       1          0          0         0       0   \n",
       "1                      0       1          1          0         0       1   \n",
       "2                      0       0          0          0         0       0   \n",
       "3                      0       0          0          0         0       0   \n",
       "4                      0       0          0          0         0       0   \n",
       "...                  ...     ...        ...        ...       ...     ...   \n",
       "9443                   0       1          0          0         0       0   \n",
       "9444                   0       1          0          0         0       0   \n",
       "9445                   0       1          0          0         0       0   \n",
       "9446                   0       0          0          0         0       1   \n",
       "9447                   0       0          0          0         0       1   \n",
       "\n",
       "      Crime  Documentary  Drama  Fantasy  Film-Noir  Horror  IMAX  Musical  \\\n",
       "0         0            0      1        0          0       0     0        0   \n",
       "1         0            1      0        1          0       0     0        0   \n",
       "2         0            0      1        0          0       0     0        1   \n",
       "3         0            0      1        0          0       1     0        0   \n",
       "4         0            0      1        0          0       0     0        0   \n",
       "...     ...          ...    ...      ...        ...     ...   ...      ...   \n",
       "9443      0            0      0        0          0       0     0        0   \n",
       "9444      1            0      0        0          0       0     0        0   \n",
       "9445      1            0      0        0          0       0     0        0   \n",
       "9446      0            0      0        0          0       0     0        0   \n",
       "9447      0            0      0        0          0       0     0        1   \n",
       "\n",
       "      Mystery  Romance  Sci-Fi  Thriller  War  Western  \n",
       "0           0        0       0         1    1        0  \n",
       "1           0        0       0         0    0        0  \n",
       "2           0        0       0         0    0        0  \n",
       "3           1        0       0         1    0        0  \n",
       "4           0        1       0         0    0        0  \n",
       "...       ...      ...     ...       ...  ...      ...  \n",
       "9443        0        0       1         1    0        0  \n",
       "9444        0        0       0         1    0        0  \n",
       "9445        0        0       0         1    0        0  \n",
       "9446        0        0       0         0    0        1  \n",
       "9447        0        0       0         0    0        0  \n",
       "\n",
       "[9448 rows x 20 columns]"
      ]
     },
     "execution_count": 29,
     "metadata": {},
     "output_type": "execute_result"
    }
   ],
   "source": [
    "genres_df = features_df.iloc[:,:20]\n",
    "genres_df"
   ]
  },
  {
   "cell_type": "code",
   "execution_count": 30,
   "metadata": {},
   "outputs": [
    {
     "data": {
      "text/plain": [
       "array([[1.        , 0.2236068 , 0.35355339, ..., 0.57735027, 0.        ,\n",
       "        0.        ],\n",
       "       [0.2236068 , 1.        , 0.        , ..., 0.25819889, 0.31622777,\n",
       "        0.31622777],\n",
       "       [0.35355339, 0.        , 1.        , ..., 0.        , 0.        ,\n",
       "        0.5       ],\n",
       "       ...,\n",
       "       [0.57735027, 0.25819889, 0.        , ..., 1.        , 0.        ,\n",
       "        0.        ],\n",
       "       [0.        , 0.31622777, 0.        , ..., 0.        , 1.        ,\n",
       "        0.5       ],\n",
       "       [0.        , 0.31622777, 0.5       , ..., 0.        , 0.5       ,\n",
       "        1.        ]])"
      ]
     },
     "execution_count": 30,
     "metadata": {},
     "output_type": "execute_result"
    }
   ],
   "source": [
    "cosine_sim = cosine_similarity(genres_df, genres_df)\n",
    "cosine_sim"
   ]
  },
  {
   "cell_type": "code",
   "execution_count": 31,
   "metadata": {},
   "outputs": [
    {
     "name": "stdout",
     "output_type": "stream",
     "text": [
      "If you liked Rocky, you should watch:\n",
      "21                100 Streets\n",
      "29    11'09\"01 - September 11\n",
      "34           12 Years a Slave\n",
      "39                   13 Hours\n",
      "81                    28 Days\n",
      "Name: title, dtype: object\n"
     ]
    }
   ],
   "source": [
    "get_recommendations(\"Rocky\", 5)"
   ]
  },
  {
   "cell_type": "markdown",
   "metadata": {},
   "source": [
    "### Dimensionality Reduction with Matrix Factorization"
   ]
  },
  {
   "cell_type": "markdown",
   "metadata": {},
   "source": [
    "Matrix Factorization is a linear algebra technique that can help us discover latent features (*k*) underlying the interactions between users and movies.  \n",
    "It is very useful for very sparse data and can enhance the quality of the recommendations."
   ]
  },
  {
   "cell_type": "markdown",
   "metadata": {},
   "source": [
    "These latent features give a more compact representation of user tastes and item descriptions.  \n",
    "  \n",
    "The algorithm works by factorizing the original user-item matrix into two factor matrices:\n",
    "- user-factor matrix (n_users, *k*)\n",
    "- item-factor matrix (*k*, n_items)"
   ]
  },
  {
   "cell_type": "markdown",
   "metadata": {},
   "source": [
    "We can´t interpret what each latent feature k represents, however, we could imagine that one latent feature may represent users that like anime movies, while another one may represent action movies from the 70s."
   ]
  },
  {
   "cell_type": "code",
   "execution_count": 32,
   "metadata": {},
   "outputs": [
    {
     "data": {
      "text/plain": [
       "(9724, 20)"
      ]
     },
     "execution_count": 32,
     "metadata": {},
     "output_type": "execute_result"
    }
   ],
   "source": [
    "from sklearn.decomposition import TruncatedSVD\n",
    "\n",
    "svd = TruncatedSVD(n_components =20, n_iter =10)\n",
    "movie_embeddings = svd.fit_transform(matrix.T)\n",
    "movie_embeddings.shape"
   ]
  },
  {
   "cell_type": "markdown",
   "metadata": {},
   "source": [
    "We have (*n*<sub>movies</sub>, *n*<sub>components</sub>).  \n",
    "More components, less compressed.\n",
    "At some point more compact can make us lose information."
   ]
  },
  {
   "cell_type": "code",
   "execution_count": 33,
   "metadata": {},
   "outputs": [
    {
     "name": "stdout",
     "output_type": "stream",
     "text": [
      "Because you liked \"Rocky\", you should watch the following movies:\n",
      "- Goldfinger\n",
      "- The Untouchables\n",
      "- Jaws\n",
      "- Ghostbusters (a.k.a. Ghost Busters)\n",
      "- Airplane!\n",
      "- A Few Good Men\n",
      "- Close Encounters of the Third Kind\n",
      "- Crocodile Dundee\n",
      "- Die Hard\n"
     ]
    }
   ],
   "source": [
    "similar_movies = find_similar_movies(movie_id, movie_embeddings.T, imdbId_mapper, imdbId_inv_mapper, metric=\"cosine\",k = 10)\n",
    "similar_movies\n",
    "\n",
    "print(f\"Because you liked \\\"{movie_titles[movie_id]}\\\", you should watch the following movies:\")\n",
    "for j in similar_movies:\n",
    "    print(f\"- {movie_titles[j]}\")"
   ]
  },
  {
   "cell_type": "markdown",
   "metadata": {},
   "source": [
    "## Advanced Models"
   ]
  },
  {
   "cell_type": "markdown",
   "metadata": {},
   "source": [
    "Up to this point we tried basic models in order to make recommendations with small datasets. But what happens when we want to deploy the model?, we need it to be as fast as possible, furthermore, what happens when we have large datasets?, we need a model that can withstand large datasets."
   ]
  },
  {
   "cell_type": "markdown",
   "metadata": {},
   "source": [
    "That´s why I am going to use **FAISS** and **Annoy** libraries to observe different outputs and decide which one I am going to use for the API."
   ]
  },
  {
   "cell_type": "markdown",
   "metadata": {},
   "source": [
    "#### **FAISS**"
   ]
  },
  {
   "cell_type": "markdown",
   "metadata": {},
   "source": [
    "**FAISS** (Facebook AI Similarity Search) is a library for efficient similarity search and clustering of dense vectors, in other words, high-performance similarity search for large scale datasets. Also, it has GPU/CPU support."
   ]
  },
  {
   "cell_type": "markdown",
   "metadata": {},
   "source": [
    "<u>Its key features are:</u>\n",
    "- **High Performance on CPUs and GPUs**  \n",
    "\n",
    "- **Multiple Index Types:** \n",
    "    - I used IndexFlatL2: Exact search using L2 (Euclidean) distance.\n",
    "- **Support for quantization:**   \n",
    "  Reduces memory usage by representing vectors with fewer bits, with controlled loss in accuracy"
   ]
  },
  {
   "cell_type": "markdown",
   "metadata": {},
   "source": [
    "<u>To know more about this library, go to this link:</u>  \n",
    "https://github.com/facebookresearch/faiss"
   ]
  },
  {
   "cell_type": "markdown",
   "metadata": {},
   "source": [
    "Im going to start using **FAISS** with the Collaborative Filtering and Matrix Factorization techniques from before."
   ]
  },
  {
   "cell_type": "code",
   "execution_count": 34,
   "metadata": {},
   "outputs": [],
   "source": [
    "import faiss"
   ]
  },
  {
   "cell_type": "code",
   "execution_count": 35,
   "metadata": {},
   "outputs": [],
   "source": [
    "movie_embeddings = movie_embeddings.astype(\"float32\")"
   ]
  },
  {
   "cell_type": "code",
   "execution_count": 36,
   "metadata": {},
   "outputs": [],
   "source": [
    "faiss.normalize_L2(movie_embeddings)"
   ]
  },
  {
   "cell_type": "code",
   "execution_count": 37,
   "metadata": {},
   "outputs": [],
   "source": [
    "d = movie_embeddings.shape[1]\n",
    "index = faiss.IndexFlatL2(d)\n",
    "index.add(movie_embeddings)"
   ]
  },
  {
   "cell_type": "code",
   "execution_count": 38,
   "metadata": {},
   "outputs": [],
   "source": [
    "def get_faiss_recommendations(title, embeddings, faiss_index, k=5):\n",
    "    movie_title = movie_finder(title)\n",
    "    movie_id = movie_idx[movie_title]\n",
    "    query = embeddings[movie_id].reshape(1,-1)\n",
    "    distances, indices = faiss_index.search(query,k=k+1)\n",
    "    print(f\"If you liked {movie_title}, you should watch: \")\n",
    "    ids = indices[0].tolist()\n",
    "    if movie_id in ids:\n",
    "        ids.remove(movie_id)\n",
    "    faiss_indices = ids[:k]\n",
    "    return movie_id, faiss_indices"
   ]
  },
  {
   "cell_type": "code",
   "execution_count": 39,
   "metadata": {},
   "outputs": [
    {
     "name": "stdout",
     "output_type": "stream",
     "text": [
      "If you liked First Blood (Rambo: First Blood), you should watch: \n",
      "4429    Love and Other Catastrophes\n",
      "3321                      Helvetica\n",
      "2990             Gintama: The Movie\n",
      "4251                    Let It Ride\n",
      "2287                       Due Date\n",
      "3357       High Heels and Low Lifes\n",
      "2486     Exit Through the Gift Shop\n",
      "Name: title, dtype: object\n"
     ]
    }
   ],
   "source": [
    "_, sim_ids = get_faiss_recommendations(\"Rambo\", movie_embeddings, index, 7)\n",
    "print(movies[\"title\"].iloc[sim_ids])"
   ]
  },
  {
   "cell_type": "markdown",
   "metadata": {},
   "source": [
    "And now with content-based filtering"
   ]
  },
  {
   "cell_type": "code",
   "execution_count": 40,
   "metadata": {},
   "outputs": [
    {
     "data": {
      "text/plain": [
       "array([[0., 1., 0., ..., 0., 1., 0.],\n",
       "       [0., 1., 1., ..., 1., 0., 0.],\n",
       "       [0., 0., 0., ..., 0., 0., 0.],\n",
       "       ...,\n",
       "       [0., 1., 0., ..., 1., 0., 0.],\n",
       "       [0., 0., 0., ..., 0., 0., 0.],\n",
       "       [0., 0., 0., ..., 0., 0., 0.]], dtype=float32)"
      ]
     },
     "execution_count": 40,
     "metadata": {},
     "output_type": "execute_result"
    }
   ],
   "source": [
    "features = features_df.values.astype(\"float32\")\n",
    "features"
   ]
  },
  {
   "cell_type": "code",
   "execution_count": 41,
   "metadata": {},
   "outputs": [
    {
     "data": {
      "text/plain": [
       "(9448, 33)"
      ]
     },
     "execution_count": 41,
     "metadata": {},
     "output_type": "execute_result"
    }
   ],
   "source": [
    "features.shape"
   ]
  },
  {
   "cell_type": "markdown",
   "metadata": {},
   "source": [
    "Now we use *PCA (Principal Component Analysis)*, which is a statistical technique used for dimensionality reduction and feature extraction.  "
   ]
  },
  {
   "cell_type": "code",
   "execution_count": 42,
   "metadata": {},
   "outputs": [],
   "source": [
    "from sklearn.decomposition import PCA\n",
    "\n",
    "pca_full = PCA()\n",
    "pca_full.fit_transform(features)\n",
    "cumulative_variance = np.cumsum(pca_full.explained_variance_ratio_)\n",
    "threshold = 0.95\n",
    "n_components = np.argmax(cumulative_variance >= threshold) + 1\n",
    "pca = PCA(n_components=n_components)\n",
    "features_dense = pca.fit_transform(features)"
   ]
  },
  {
   "cell_type": "code",
   "execution_count": 43,
   "metadata": {},
   "outputs": [
    {
     "data": {
      "text/plain": [
       "(9448, 21)"
      ]
     },
     "execution_count": 43,
     "metadata": {},
     "output_type": "execute_result"
    }
   ],
   "source": [
    "features_dense.shape"
   ]
  },
  {
   "cell_type": "code",
   "execution_count": 44,
   "metadata": {},
   "outputs": [],
   "source": [
    "dimension = features_dense.shape[1]\n",
    "faiss_index = faiss.IndexFlatL2(dimension)\n",
    "faiss_index.add(features_dense)"
   ]
  },
  {
   "cell_type": "code",
   "execution_count": 45,
   "metadata": {},
   "outputs": [
    {
     "name": "stdout",
     "output_type": "stream",
     "text": [
      "If you liked First Blood (Rambo: First Blood), you should watch: \n",
      "6073            Runaway Train\n",
      "7978       The Mosquito Coast\n",
      "267          A View to a Kill\n",
      "2725       For Your Eyes Only\n",
      "4274          Licence to Kill\n",
      "5089    Never Say Never Again\n",
      "5237                Octopussy\n",
      "Name: title, dtype: object\n"
     ]
    }
   ],
   "source": [
    "_, sim_ids = get_faiss_recommendations(\"Rambo\", features_dense, faiss_index, 7)\n",
    "print(movies[\"title\"].iloc[sim_ids])"
   ]
  },
  {
   "cell_type": "markdown",
   "metadata": {},
   "source": [
    "Finally, lets do a *scatter plot* for the Faiss index\n"
   ]
  },
  {
   "cell_type": "code",
   "execution_count": 46,
   "metadata": {},
   "outputs": [],
   "source": [
    "import matplotlib.pyplot as plt\n",
    "\n",
    "def get_plot(embeddings, movie_title, index):\n",
    "    rec_indices=[]\n",
    "    query_idx , rec_indices = get_faiss_recommendations(movie_title,embeddings, index, 5)\n",
    "    \n",
    "    pca=PCA(n_components=2)\n",
    "    embeddings_2d = pca.fit_transform(embeddings)\n",
    "\n",
    "    fig, ax=plt.subplots(figsize=(10,8))\n",
    "    ax.scatter(embeddings_2d[:,0],embeddings_2d[:,1],color=\"lightgray\",label=\"Movies\",alpha=0.6, s=40)\n",
    "    ax.scatter(embeddings_2d[query_idx,0],embeddings_2d[query_idx,1], marker='*', s=200,color=\"red\",label=f\"Query: {movie_title}\")\n",
    "    ax.scatter(embeddings_2d[rec_indices,0],embeddings_2d[rec_indices,1],color=\"blue\",s=80,label=\"FAISS neighbors\")\n",
    "    ax.set_xlabel('PCA Component 1')\n",
    "    ax.set_ylabel('PCA Component 2')\n",
    "    ax.set_title(f\"FAISS Recommendations for {movie_title} Scatter Plot\")\n",
    "    ax.legend()\n"
   ]
  },
  {
   "cell_type": "code",
   "execution_count": 47,
   "metadata": {},
   "outputs": [
    {
     "name": "stdout",
     "output_type": "stream",
     "text": [
      "If you liked Shrek, you should watch: \n"
     ]
    },
    {
     "data": {
      "image/png": "[encoded data removed]",
      "text/plain": [
       "<Figure size 1000x800 with 1 Axes>"
      ]
     },
     "metadata": {},
     "output_type": "display_data"
    }
   ],
   "source": [
    "get_plot(features_dense,\"Shrek\",faiss_index)"
   ]
  },
  {
   "cell_type": "markdown",
   "metadata": {},
   "source": [
    "#### **Annoy**"
   ]
  },
  {
   "cell_type": "markdown",
   "metadata": {},
   "source": [
    "**Annoy** (Approximate Nearest Neighbors Oh Yeah) is a library to search for points in space that are close to a given query point. Its purpose is to do efficient *Approximate Nearest Neighbors (ANN)* search for medium-sized datasets. It is ideal to use it for large-scale recommendation systems."
   ]
  },
  {
   "cell_type": "markdown",
   "metadata": {},
   "source": [
    "<u>Its key features are:</u>\n",
    "- **Indexing with Trees:**  \n",
    "  Annoy builds a forest of binary trees by recursively partitioning the high dimensional space using random hyperplanes.  \n",
    "  \n",
    "- **Static and Read-Only indexes:**  \n",
    "  Once built, the index can be saved to disk and memory-mapped, allowing many processes to share it without re-building.  \n",
    "  \n",
    "- **Multiple Distance Metrics:**  \n",
    "  Support Angular (related to cosine similarity), Euclidean, Manhattan, among others\n",
    "- **Trade-Off between Accuracy and Speed:**  \n",
    "  More number of trees means more accuracy at cost of build time and index size."
   ]
  },
  {
   "cell_type": "markdown",
   "metadata": {},
   "source": [
    "<u>To know more about this library, go to this link:</u>  \n",
    "https://github.com/spotify/annoy?tab=readme-ov-file"
   ]
  },
  {
   "cell_type": "code",
   "execution_count": 48,
   "metadata": {},
   "outputs": [],
   "source": [
    "from annoy import AnnoyIndex"
   ]
  },
  {
   "cell_type": "code",
   "execution_count": 49,
   "metadata": {},
   "outputs": [
    {
     "data": {
      "text/plain": [
       "33"
      ]
     },
     "execution_count": 49,
     "metadata": {},
     "output_type": "execute_result"
    }
   ],
   "source": [
    "dim = len(features_df.columns)\n",
    "dim"
   ]
  },
  {
   "cell_type": "code",
   "execution_count": 50,
   "metadata": {},
   "outputs": [
    {
     "data": {
      "text/plain": [
       "True"
      ]
     },
     "execution_count": 50,
     "metadata": {},
     "output_type": "execute_result"
    }
   ],
   "source": [
    "annoy_metric = \"angular\"\n",
    "annoy_index = AnnoyIndex(dim,annoy_metric)\n",
    "\n",
    "for idx, vector in enumerate(features):\n",
    "    annoy_index.add_item(idx,vector)\n",
    "\n",
    "annoy_index.build(n_trees=25)"
   ]
  },
  {
   "cell_type": "code",
   "execution_count": 51,
   "metadata": {},
   "outputs": [],
   "source": [
    "def get_similar_movies(movie_title, n_recommendations = 5):\n",
    "    title = movie_finder(movie_title)\n",
    "    print(f\"Because you liked {title}, you should watch:\")\n",
    "    idx = movie_idx[title]\n",
    "\n",
    "    similar_indices = annoy_index.get_nns_by_item(idx, n_recommendations)\n",
    "\n",
    "    return movies['title'].iloc[similar_indices]"
   ]
  },
  {
   "cell_type": "code",
   "execution_count": 52,
   "metadata": {},
   "outputs": [
    {
     "name": "stdout",
     "output_type": "stream",
     "text": [
      "Because you liked Rocky, you should watch:\n",
      " 92              3 Women (Three Women)\n",
      "273       A Woman Under the Influence\n",
      "358                           Airport\n",
      "359                       Airport '77\n",
      "706       Autumn Sonata (Höstsonaten)\n",
      "1039    Billy Jack Goes to Washington\n",
      "Name: title, dtype: object\n"
     ]
    }
   ],
   "source": [
    "similar_movies = get_similar_movies(\"Rocky (1976)\", 6)\n",
    "\n",
    "print(f\" {similar_movies}\")"
   ]
  },
  {
   "cell_type": "markdown",
   "metadata": {},
   "source": [
    "Once we tried **Annoy** and we already used **Matrix Factorization** before, how about we use both in a Hybrid Model."
   ]
  },
  {
   "cell_type": "code",
   "execution_count": 53,
   "metadata": {},
   "outputs": [
    {
     "data": {
      "text/plain": [
       "True"
      ]
     },
     "execution_count": 53,
     "metadata": {},
     "output_type": "execute_result"
    }
   ],
   "source": [
    "svd_full = TruncatedSVD()\n",
    "svd_full.fit_transform(matrix.T)\n",
    "cumulative_variance = np.cumsum(svd_full.explained_variance_ratio_)\n",
    "n_components = np.argmax(cumulative_variance >= threshold) + 1\n",
    "\n",
    "svd = TruncatedSVD(n_components=n_components)\n",
    "embeddings = svd.fit_transform(matrix.T)\n",
    "dim = n_components\n",
    "annoy_index = AnnoyIndex(dim,annoy_metric)\n",
    "for idx, embedding in enumerate(embeddings):\n",
    "    annoy_index.add_item(idx,embedding)\n",
    "annoy_index.build(10)"
   ]
  },
  {
   "cell_type": "code",
   "execution_count": 54,
   "metadata": {},
   "outputs": [
    {
     "name": "stdout",
     "output_type": "stream",
     "text": [
      "Because you liked First Blood (Rambo: First Blood), you should watch:\n",
      "2048                              Desk Set\n",
      "9303                        Without a Clue\n",
      "3018                               Go Fish\n",
      "541     And Now... Ladies and Gentlemen...\n",
      "54             1984 (Nineteen Eighty-Four)\n",
      "472                     American History X\n",
      "Name: title, dtype: object\n"
     ]
    }
   ],
   "source": [
    "sim_movies = get_similar_movies(\"Rambo\",n_recommendations=6)\n",
    "print(sim_movies)"
   ]
  },
  {
   "cell_type": "markdown",
   "metadata": {},
   "source": [
    "### Save models"
   ]
  },
  {
   "cell_type": "markdown",
   "metadata": {},
   "source": [
    "Once we finished training our models we are going to save **FAISS** and **ANNOY** indexes to use it in our API/APP."
   ]
  },
  {
   "cell_type": "code",
   "execution_count": 55,
   "metadata": {},
   "outputs": [],
   "source": [
    "import pickle"
   ]
  },
  {
   "cell_type": "code",
   "execution_count": 56,
   "metadata": {},
   "outputs": [],
   "source": [
    "faiss.write_index(faiss_index, \"../index/faiss_index.bin\")"
   ]
  },
  {
   "cell_type": "code",
   "execution_count": 57,
   "metadata": {},
   "outputs": [
    {
     "data": {
      "text/plain": [
       "True"
      ]
     },
     "execution_count": 57,
     "metadata": {},
     "output_type": "execute_result"
    }
   ],
   "source": [
    "annoy_index.save(\"../index/annoy_index.ann\")"
   ]
  },
  {
   "cell_type": "code",
   "execution_count": 58,
   "metadata": {},
   "outputs": [],
   "source": [
    "with open(\"../dictionaries/features_dense.pkl\", \"wb\") as handle:\n",
    "    pickle.dump(features_dense, handle, protocol = pickle.HIGHEST_PROTOCOL)\n",
    "\n",
    "with open(\"../dictionaries/movie_idx.pkl\", \"wb\") as handle:\n",
    "    pickle.dump(movie_idx, handle, protocol = pickle.HIGHEST_PROTOCOL)\n",
    "\n",
    "with open(\"../dictionaries/movies.pkl\", \"wb\") as handle:\n",
    "    pickle.dump(movies, handle, protocol = pickle.HIGHEST_PROTOCOL)"
   ]
  },
  {
   "cell_type": "code",
   "execution_count": 59,
   "metadata": {},
   "outputs": [],
   "source": [
    "import json\n",
    "annoy_config = {\n",
    "    \"dimension\":int(dim),\n",
    "    \"metric\": annoy_metric,\n",
    "}\n",
    "with open(\"../index/annoy_config.json\",\"w\") as handle:\n",
    "    json.dump(annoy_config,handle,indent=4)"
   ]
  },
  {
   "cell_type": "code",
   "execution_count": 60,
   "metadata": {},
   "outputs": [
    {
     "name": "stderr",
     "output_type": "stream",
     "text": [
      "2025/03/17 00:36:45 WARNING mlflow.sklearn: Model was missing function: predict. Not logging python_function flavor!\n",
      "\u001b[31m2025/03/17 00:36:49 WARNING mlflow.models.model: Model logged without a signature and input example. Please set `input_example` parameter when logging the model to auto infer the model signature.\u001b[0m\n"
     ]
    },
    {
     "data": {
      "text/plain": [
       "<mlflow.models.model.ModelInfo at 0x755f5f38d410>"
      ]
     },
     "execution_count": 60,
     "metadata": {},
     "output_type": "execute_result"
    }
   ],
   "source": [
    "mlflow.sklearn.log_model(faiss_index,\"faiss_model\")"
   ]
  }
 ],
 "metadata": {
  "kernelspec": {
   "display_name": "DataScience",
   "language": "python",
   "name": "python3"
  },
  "language_info": {
   "codemirror_mode": {
    "name": "ipython",
    "version": 3
   },
   "file_extension": ".py",
   "mimetype": "text/x-python",
   "name": "python",
   "nbconvert_exporter": "python",
   "pygments_lexer": "ipython3",
   "version": "3.11.7"
  }
 },
 "nbformat": 4,
 "nbformat_minor": 2
}
